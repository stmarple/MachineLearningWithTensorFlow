{
  "nbformat": 4,
  "nbformat_minor": 0,
  "metadata": {
    "colab": {
      "name": "FFNN_MNST.ipynb",
      "provenance": [],
      "collapsed_sections": [],
      "include_colab_link": true
    },
    "kernelspec": {
      "name": "python3",
      "display_name": "Python 3"
    }
  },
  "cells": [
    {
      "cell_type": "markdown",
      "metadata": {
        "id": "view-in-github",
        "colab_type": "text"
      },
      "source": [
        "<a href=\"https://colab.research.google.com/github/stmarple/MachineLearningWithTensorFlow/blob/master/FFNN_MNST.ipynb\" target=\"_parent\"><img src=\"https://colab.research.google.com/assets/colab-badge.svg\" alt=\"Open In Colab\"/></a>"
      ]
    },
    {
      "cell_type": "markdown",
      "metadata": {
        "id": "KECr0nCgTICr",
        "colab_type": "text"
      },
      "source": [
        "# MNIST (aka Modified National Institute of Standards and Technology Database) \n",
        "is a large database of handwritten digits used for training various image processing systems.\n",
        "https://en.wikipedia.org/wiki/MNIST_database"
      ]
    },
    {
      "cell_type": "code",
      "metadata": {
        "id": "J1nHUfemQGqi",
        "colab_type": "code",
        "colab": {}
      },
      "source": [
        "from __future__ import absolute_import, division, print_function, unicode_literals\n",
        "import tensorflow as tf"
      ],
      "execution_count": 0,
      "outputs": []
    },
    {
      "cell_type": "markdown",
      "metadata": {
        "id": "aXHHDol2Qfos",
        "colab_type": "text"
      },
      "source": [
        "### **Load and Prepare the MNIST Dataset**"
      ]
    },
    {
      "cell_type": "code",
      "metadata": {
        "id": "5acM7z7wQNHy",
        "colab_type": "code",
        "colab": {}
      },
      "source": [
        "mnist = tf.keras.datasets.mnist\n",
        "\n",
        "(x_train, y_train), (x_test, y_test) = mnist.load_data()\n",
        "x_train, x_test = x_train / 255.0, x_test / 255.0\n"
      ],
      "execution_count": 0,
      "outputs": []
    },
    {
      "cell_type": "markdown",
      "metadata": {
        "id": "YxkB2bNwQ2Ea",
        "colab_type": "text"
      },
      "source": [
        "### **Build the `tf.keras.Sequential` model by stacking layers**"
      ]
    },
    {
      "cell_type": "code",
      "metadata": {
        "id": "bJa8S8S4QxEX",
        "colab_type": "code",
        "colab": {}
      },
      "source": [
        "modelA = tf.keras.models.Sequential([\n",
        "  tf.keras.layers.Flatten(input_shape=(28, 28)),\n",
        "  tf.keras.layers.Dense(256, activation='relu'),\n",
        "  tf.keras.layers.Dropout(0.2),\n",
        "  tf.keras.layers.Dense(10, activation='softmax')\n",
        "])\n",
        "\n",
        "modelA.compile(optimizer='adam', loss='sparse_categorical_crossentropy', metrics=['accuracy'])"
      ],
      "execution_count": 0,
      "outputs": []
    },
    {
      "cell_type": "markdown",
      "metadata": {
        "id": "RV7pIwSsRYg6",
        "colab_type": "text"
      },
      "source": [
        "### **Train and evaluate the model**\n",
        "Before we begin, we should go over a few important **hyperparameters**:\n",
        "\n",
        "1. epoch, which is the total training sequences\n",
        "2. batch_size, which is the training batch size\n",
        "3. display_freq, which is the frequency of results displaying\n",
        "4. learning_rate, which is the initial optimization learning rate\n",
        "\n",
        "see https://www.easy-tensorflow.com/tf-tutorials/neural-networks/two-layer-neural-network?view=article&id=124:two-layer-neural-network for more information."
      ]
    },
    {
      "cell_type": "code",
      "metadata": {
        "id": "tTBGUZZFQ6sx",
        "colab_type": "code",
        "outputId": "75ea0024-192e-4ff0-fac7-67a3454d6945",
        "colab": {
          "base_uri": "https://localhost:8080/",
          "height": 235
        }
      },
      "source": [
        "historyA = modelA.fit(x_train, y_train, epochs=5)\n",
        "loss, accuracy  = modelA.evaluate(x_test,  y_test, verbose=2)"
      ],
      "execution_count": 33,
      "outputs": [
        {
          "output_type": "stream",
          "text": [
            "Train on 60000 samples\n",
            "Epoch 1/5\n",
            "60000/60000 [==============================] - 6s 94us/sample - loss: 0.0428 - acc: 0.9855\n",
            "Epoch 2/5\n",
            "60000/60000 [==============================] - 5s 90us/sample - loss: 0.0316 - acc: 0.9894\n",
            "Epoch 3/5\n",
            "60000/60000 [==============================] - 6s 93us/sample - loss: 0.0284 - acc: 0.9905\n",
            "Epoch 4/5\n",
            "60000/60000 [==============================] - 5s 91us/sample - loss: 0.0263 - acc: 0.9912\n",
            "Epoch 5/5\n",
            "60000/60000 [==============================] - 6s 96us/sample - loss: 0.0235 - acc: 0.9916\n",
            "10000/10000 - 0s - loss: 0.0678 - acc: 0.9815\n"
          ],
          "name": "stdout"
        }
      ]
    },
    {
      "cell_type": "code",
      "metadata": {
        "id": "TJkyORIXcVup",
        "colab_type": "code",
        "colab": {
          "base_uri": "https://localhost:8080/",
          "height": 331
        },
        "outputId": "bd264610-f2ea-4792-eb5f-44c2868d6c37"
      },
      "source": [
        "import matplotlib.pyplot as plt\n",
        "\n",
        "plt.plot(historyA.history['acc'])\n",
        "plt.title('model accuracy')\n",
        "plt.ylabel('accuracy')\n",
        "plt.xlabel('epoch')\n",
        "plt.legend(['training', 'validation'], loc='best')\n",
        "plt.show()\n",
        "\n",
        "print(f'Test loss: {loss:.3}')\n",
        "print(f'Test accuracy: {accuracy:.3}')\n"
      ],
      "execution_count": 37,
      "outputs": [
        {
          "output_type": "display_data",
          "data": {
            "image/png": "[encoded data removed]",
            "text/plain": [
              "<Figure size 432x288 with 1 Axes>"
            ]
          },
          "metadata": {
            "tags": []
          }
        },
        {
          "output_type": "stream",
          "text": [
            "Test loss: 0.0678\n",
            "Test accuracy: 0.982\n"
          ],
          "name": "stdout"
        }
      ]
    },
    {
      "cell_type": "code",
      "metadata": {
        "id": "70PyjtPiceE9",
        "colab_type": "code",
        "colab": {
          "base_uri": "https://localhost:8080/",
          "height": 305
        },
        "outputId": "07ead409-ae4c-445b-abec-9325e863be09"
      },
      "source": [
        "img = int(input('Enter an index over 4440: '))\n",
        "plt.imshow(x_test[img].reshape(28,28),cmap='Greys')\n",
        "pred = modelA.predict(x_test[img].reshape(1, 28, 28))\n",
        "print(pred.argmax())"
      ],
      "execution_count": 38,
      "outputs": [
        {
          "output_type": "stream",
          "text": [
            "Enter an index over 4440: 1500\n",
            "7\n"
          ],
          "name": "stdout"
        },
        {
          "output_type": "display_data",
          "data": {
            "image/png": "[encoded data removed]",
            "text/plain": [
              "<Figure size 432x288 with 1 Axes>"
            ]
          },
          "metadata": {
            "tags": []
          }
        }
      ]
    },
    {
      "cell_type": "markdown",
      "metadata": {
        "id": "eMBPLFhA44gx",
        "colab_type": "text"
      },
      "source": [
        "\n",
        "\n",
        "---\n",
        "\n"
      ]
    },
    {
      "cell_type": "markdown",
      "metadata": {
        "id": "80MEW10qvqbN",
        "colab_type": "text"
      },
      "source": [
        "# Classification of MNIST Digits\n",
        "https://medium.com/tebs-lab/how-to-classify-mnist-digits-with-different-neural-network-architectures-39c75a0f03e3"
      ]
    },
    {
      "cell_type": "markdown",
      "metadata": {
        "id": "dE4XpoJ2uqI9",
        "colab_type": "text"
      },
      "source": [
        "**Shape**"
      ]
    },
    {
      "cell_type": "code",
      "metadata": {
        "id": "1cBmbK5bRg-Y",
        "colab_type": "code",
        "outputId": "c501c63b-2cd5-44cf-f895-de533547a8d3",
        "colab": {
          "base_uri": "https://localhost:8080/",
          "height": 54
        }
      },
      "source": [
        "print('Training data shape: ', x_train.shape)\n",
        "print('Test data shape: ', x_test.shape)"
      ],
      "execution_count": 5,
      "outputs": [
        {
          "output_type": "stream",
          "text": [
            "Training data shape:  (60000, 28, 28)\n",
            "Test data shape:  (10000, 28, 28)\n"
          ],
          "name": "stdout"
        }
      ]
    },
    {
      "cell_type": "markdown",
      "metadata": {
        "id": "CZOCD4yDvCdO",
        "colab_type": "text"
      },
      "source": [
        "**Flatten Images**"
      ]
    },
    {
      "cell_type": "code",
      "metadata": {
        "id": "HEyiRYHWuicJ",
        "colab_type": "code",
        "colab": {}
      },
      "source": [
        "img_vector_size = 28**2\n",
        "x_train = x_train.reshape(x_train.shape[0], img_vector_size)\n",
        "x_test = x_test.reshape(x_test.shape[0], img_vector_size)"
      ],
      "execution_count": 0,
      "outputs": []
    },
    {
      "cell_type": "markdown",
      "metadata": {
        "id": "gqqBi2XSwi_9",
        "colab_type": "text"
      },
      "source": [
        "### Create a Vector"
      ]
    },
    {
      "cell_type": "code",
      "metadata": {
        "id": "Dj8HO3gbvfDN",
        "colab_type": "code",
        "outputId": "e2e4eab0-3230-47ae-fe1a-bd29ee0b54d5",
        "colab": {
          "base_uri": "https://localhost:8080/",
          "height": 181
        }
      },
      "source": [
        "import keras\n",
        "from keras.datasets import mnist\n",
        "\n",
        "# Setup train and test splits\n",
        "(x_train, y_train), (x_test, y_test) = mnist.load_data()\n",
        "print('Training label shape: '   , y_train.shape) # 60000 numbers (all 0-9)\n",
        "print('First 5 training labels: ', y_train[:5]) # [5, 0, 4, 1, 9]\n",
        "\n",
        "# Convert to vectors using the to_categorical function\n",
        "num_classes = 10\n",
        "y_train = keras.utils.to_categorical(y_train, num_classes)\n",
        "y_test = keras.utils.to_categorical(y_test, num_classes)\n",
        "print('First 5 training lables as one-hot encoded vectors:\\n', y_train[:5])\n"
      ],
      "execution_count": 7,
      "outputs": [
        {
          "output_type": "stream",
          "text": [
            "Using TensorFlow backend.\n"
          ],
          "name": "stderr"
        },
        {
          "output_type": "stream",
          "text": [
            "Training label shape:  (60000,)\n",
            "First 5 training labels:  [5 0 4 1 9]\n",
            "First 5 training lables as one-hot encoded vectors:\n",
            " [[0. 0. 0. 0. 0. 1. 0. 0. 0. 0.]\n",
            " [1. 0. 0. 0. 0. 0. 0. 0. 0. 0.]\n",
            " [0. 0. 0. 0. 1. 0. 0. 0. 0. 0.]\n",
            " [0. 1. 0. 0. 0. 0. 0. 0. 0. 0.]\n",
            " [0. 0. 0. 0. 0. 0. 0. 0. 0. 1.]]\n"
          ],
          "name": "stdout"
        }
      ]
    },
    {
      "cell_type": "markdown",
      "metadata": {
        "id": "2cx4Q-4f4E-f",
        "colab_type": "text"
      },
      "source": [
        "### For fully connected neural networks, there are three essential questions that define the network’s architecture:\n",
        "1. How many layers are there?\n",
        "2. How many nodes are there in each of those layers?\n",
        "3. What transfer/activation function is used at each of those layers?"
      ]
    },
    {
      "cell_type": "markdown",
      "metadata": {
        "id": "smCnFVlc5N3f",
        "colab_type": "text"
      },
      "source": [
        "### There are 2 factors that contribute to the performance of a neural network: \n",
        "* The loss function  \n",
        "* The optimization algorithm used"
      ]
    },
    {
      "cell_type": "markdown",
      "metadata": {
        "id": "VaQ2aw3O6LCF",
        "colab_type": "text"
      },
      "source": [
        "Per the article mentioned above, the author selects:\n",
        "* A *common loss function*: **the categorical cross entropy** and \n",
        "* One of the simpler *optimization alogorithms*: **the stocastic gradient descent (SGD)**\n",
        "\n",
        "**What is cross entropy loss?**  It is a log loss that measures the performance of a classification model whose output is based on a probability between 0 and 1.\n",
        "\n",
        "More information on loss functions and optimiizers can be found here: https://ml-cheatsheet.readthedocs.io/en/latest/optimizers.html#sgd"
      ]
    },
    {
      "cell_type": "markdown",
      "metadata": {
        "id": "c_1b7gyg8zPr",
        "colab_type": "text"
      },
      "source": [
        "## Creating First Model\n",
        "Dense layers are \"fully connected\" layers\n",
        "Documentation: https://keras.io/models/sequential/\n",
        "\n",
        "The input layer requires the special input_shape parameter which should match the shape of our training data.\n",
        "\n",
        "The **image_size** is a created by flattening an image to **28 X 28 or 28^2 = 784**\n",
        "\n",
        "**num_classes** represents the number of output nodes or probabilities\n",
        "\n",
        "This model has **a single hidden layer**, **that has 32 nodes, or 32 biases** using the sigmoid activation function\n",
        "\n",
        "And, since there are 784 square units, on 1 layer, that has 32 nodes, there are **784 x 1 x 32 = 25,088 weights**, where weights represent the number of pixels\n",
        "\n",
        "Therefore, there are 25,088 + 32 biases = **25,120 parameters**\n",
        "\n",
        "There are 32 x 10, or **320 weights from hidden layer to output layer**.\n",
        "\n",
        "Each of the 10 nodes adds a single bias >> 25,120 par + 320 weights + 10 nodes = **25,450 total parameters**\n",
        "\n"
      ]
    },
    {
      "cell_type": "code",
      "metadata": {
        "id": "rWZwXyriwota",
        "colab_type": "code",
        "outputId": "bcf32c70-4fb7-4421-f833-f0eb7c2e6d97",
        "colab": {
          "base_uri": "https://localhost:8080/",
          "height": 308
        }
      },
      "source": [
        "from keras.layers import Dense, Flatten \n",
        "from keras.models import Sequential \n",
        "\n",
        "image_size = 784 # 28*28\n",
        "num_classes = 10 # ten unique digits\n",
        "\n",
        "model = Sequential()\n",
        "model.add(Flatten(input_shape=(28, 28)))\n",
        "model.add(Dense(units=32, activation='sigmoid', input_shape=(image_size,)))\n",
        "model.add(Dense(units=num_classes, activation='softmax'))\n",
        "model.summary()"
      ],
      "execution_count": 8,
      "outputs": [
        {
          "output_type": "stream",
          "text": [
            "WARNING:tensorflow:From /usr/local/lib/python3.6/dist-packages/keras/backend/tensorflow_backend.py:66: The name tf.get_default_graph is deprecated. Please use tf.compat.v1.get_default_graph instead.\n",
            "\n",
            "Model: \"sequential_1\"\n",
            "_________________________________________________________________\n",
            "Layer (type)                 Output Shape              Param #   \n",
            "=================================================================\n",
            "flatten_1 (Flatten)          (None, 784)               0         \n",
            "_________________________________________________________________\n",
            "dense_1 (Dense)              (None, 32)                25120     \n",
            "_________________________________________________________________\n",
            "dense_2 (Dense)              (None, 10)                330       \n",
            "=================================================================\n",
            "Total params: 25,450\n",
            "Trainable params: 25,450\n",
            "Non-trainable params: 0\n",
            "_________________________________________________________________\n"
          ],
          "name": "stdout"
        }
      ]
    },
    {
      "cell_type": "markdown",
      "metadata": {
        "id": "nEeqklEN_eir",
        "colab_type": "text"
      },
      "source": [
        "### This model contains a special activation function: the softmax.\n",
        "What makes it special is that it normalizes the values from the 10 output nodes in such a way that:\n",
        "* all the values are between 0 and 1\n",
        "* the sum of all 10 values = 1\n",
        "\n",
        "To put it another way, Softmax \"calculates the probabilities distribution of the event over 'n' different events\".  In this case, there are 10 possible probabilities, with the largest as the prediction vector.  These probabilities \"will be helpful when determining the target class for the given inputs\".\n",
        "\n",
        "More information on activation functions can be found here:\n",
        "https://ml-cheatsheet.readthedocs.io/en/latest/activation_functions.html\n"
      ]
    },
    {
      "cell_type": "markdown",
      "metadata": {
        "id": "NeR2sqRrFL4O",
        "colab_type": "text"
      },
      "source": [
        "## Train and Evaluate The Model"
      ]
    },
    {
      "cell_type": "code",
      "metadata": {
        "id": "1V57f6_G9eZK",
        "colab_type": "code",
        "outputId": "9ba94a3a-8004-45b5-fa50-267bd7ebfac6",
        "colab": {
          "base_uri": "https://localhost:8080/",
          "height": 308
        }
      },
      "source": [
        "model.compile(optimizer=\"sgd\", loss='categorical_crossentropy', metrics=['accuracy'])\n",
        "\n",
        "history = model.fit(x_train, y_train, batch_size=128, epochs=5, validation_split=0.1)\n",
        "loss, accuracy  = model.evaluate(x_test, y_test, verbose=False)"
      ],
      "execution_count": 9,
      "outputs": [
        {
          "output_type": "stream",
          "text": [
            "WARNING:tensorflow:From /usr/local/lib/python3.6/dist-packages/keras/optimizers.py:793: The name tf.train.Optimizer is deprecated. Please use tf.compat.v1.train.Optimizer instead.\n",
            "\n",
            "WARNING:tensorflow:From /usr/local/lib/python3.6/dist-packages/tensorflow_core/python/ops/math_grad.py:1424: where (from tensorflow.python.ops.array_ops) is deprecated and will be removed in a future version.\n",
            "Instructions for updating:\n",
            "Use tf.where in 2.0, which has the same broadcast rule as np.where\n",
            "Train on 54000 samples, validate on 6000 samples\n",
            "Epoch 1/5\n",
            "54000/54000 [==============================] - 1s 26us/step - loss: 1.3984 - acc: 0.6519 - val_loss: 0.9606 - val_acc: 0.8258\n",
            "Epoch 2/5\n",
            "54000/54000 [==============================] - 1s 23us/step - loss: 0.8597 - acc: 0.8271 - val_loss: 0.6813 - val_acc: 0.8827\n",
            "Epoch 3/5\n",
            "54000/54000 [==============================] - 1s 25us/step - loss: 0.6816 - acc: 0.8582 - val_loss: 0.5597 - val_acc: 0.8953\n",
            "Epoch 4/5\n",
            "54000/54000 [==============================] - 1s 25us/step - loss: 0.5860 - acc: 0.8712 - val_loss: 0.4867 - val_acc: 0.8993\n",
            "Epoch 5/5\n",
            "54000/54000 [==============================] - 1s 24us/step - loss: 0.5245 - acc: 0.8791 - val_loss: 0.4343 - val_acc: 0.9060\n"
          ],
          "name": "stdout"
        }
      ]
    },
    {
      "cell_type": "markdown",
      "metadata": {
        "id": "G0F816xAN7hG",
        "colab_type": "text"
      },
      "source": [
        "### Graph That"
      ]
    },
    {
      "cell_type": "code",
      "metadata": {
        "id": "haWxXCpGGECZ",
        "colab_type": "code",
        "outputId": "31302c60-bfcf-44f3-aaf0-35ad133ed1dc",
        "colab": {
          "base_uri": "https://localhost:8080/",
          "height": 331
        }
      },
      "source": [
        "import matplotlib.pyplot as plt\n",
        "\n",
        "plt.plot(history.history['acc'])\n",
        "plt.plot(history.history['val_acc'])\n",
        "plt.title('model accuracy')\n",
        "plt.ylabel('accuracy')\n",
        "plt.xlabel('epoch')\n",
        "plt.legend(['training', 'validation'], loc='best')\n",
        "plt.show()\n",
        "\n",
        "print(f'Test loss: {loss:.3}')\n",
        "print(f'Test accuracy: {accuracy:.3}')"
      ],
      "execution_count": 10,
      "outputs": [
        {
          "output_type": "display_data",
          "data": {
            "image/png": "[encoded data removed]",
            "text/plain": [
              "<Figure size 432x288 with 1 Axes>"
            ]
          },
          "metadata": {
            "tags": []
          }
        },
        {
          "output_type": "stream",
          "text": [
            "Test loss: 0.482\n",
            "Test accuracy: 0.89\n"
          ],
          "name": "stdout"
        }
      ]
    },
    {
      "cell_type": "markdown",
      "metadata": {
        "id": "dBISs7rNSUnQ",
        "colab_type": "text"
      },
      "source": [
        "## Create, Test, Evaluate, and Graph Again\n",
        "This time, rather than having a single layer with only 32 nodes, let's increase that to 128 nodes"
      ]
    },
    {
      "cell_type": "code",
      "metadata": {
        "id": "zeGxhDgNFmIm",
        "colab_type": "code",
        "outputId": "6a3bbc16-6c2f-4734-e0a5-667497d5156d",
        "colab": {
          "base_uri": "https://localhost:8080/",
          "height": 785
        }
      },
      "source": [
        "image_size = 784 # 28*28\n",
        "num_classes = 10 # ten unique digits\n",
        "\n",
        "model = Sequential()\n",
        "model.add(Flatten(input_shape=(28, 28)))\n",
        "model.add(Dense(units=128, activation='sigmoid', input_shape=(image_size,))) # increase from 32 nodes to 128 **\n",
        "model.add(Dense(units=num_classes, activation='softmax'))\n",
        "model.summary()\n",
        "\n",
        "model.compile(optimizer=\"sgd\", loss='categorical_crossentropy', metrics=['accuracy'])\n",
        "\n",
        "history = model.fit(x_train, y_train, batch_size=128, epochs=5, validation_split=0.1)\n",
        "loss, accuracy  = model.evaluate(x_test, y_test, verbose=False)\n",
        "\n",
        "plt.plot(history.history['acc'])\n",
        "plt.plot(history.history['val_acc'])\n",
        "plt.title('model accuracy')\n",
        "plt.ylabel('accuracy')\n",
        "plt.xlabel('epoch')\n",
        "plt.legend(['training', 'validation'], loc='best')\n",
        "plt.show()\n",
        "\n",
        "print(f'Test loss: {loss:.3}')\n",
        "print(f'Test accuracy: {accuracy:.3}')"
      ],
      "execution_count": 18,
      "outputs": [
        {
          "output_type": "stream",
          "text": [
            "Model: \"sequential_4\"\n",
            "_________________________________________________________________\n",
            "Layer (type)                 Output Shape              Param #   \n",
            "=================================================================\n",
            "flatten_3 (Flatten)          (None, 784)               0         \n",
            "_________________________________________________________________\n",
            "dense_7 (Dense)              (None, 128)               100480    \n",
            "_________________________________________________________________\n",
            "dense_8 (Dense)              (None, 10)                1290      \n",
            "=================================================================\n",
            "Total params: 101,770\n",
            "Trainable params: 101,770\n",
            "Non-trainable params: 0\n",
            "_________________________________________________________________\n",
            "Train on 54000 samples, validate on 6000 samples\n",
            "Epoch 1/5\n",
            "54000/54000 [==============================] - 2s 39us/step - loss: 1.0417 - acc: 0.7328 - val_loss: 0.5801 - val_acc: 0.8775\n",
            "Epoch 2/5\n",
            "54000/54000 [==============================] - 2s 34us/step - loss: 0.5532 - acc: 0.8678 - val_loss: 0.4175 - val_acc: 0.9045\n",
            "Epoch 3/5\n",
            "54000/54000 [==============================] - 2s 35us/step - loss: 0.4382 - acc: 0.8912 - val_loss: 0.3511 - val_acc: 0.9160\n",
            "Epoch 4/5\n",
            "54000/54000 [==============================] - 2s 35us/step - loss: 0.3788 - acc: 0.9025 - val_loss: 0.3055 - val_acc: 0.9252\n",
            "Epoch 5/5\n",
            "54000/54000 [==============================] - 2s 35us/step - loss: 0.3445 - acc: 0.9101 - val_loss: 0.2874 - val_acc: 0.9250\n"
          ],
          "name": "stdout"
        },
        {
          "output_type": "display_data",
          "data": {
            "image/png": "[encoded data removed]",
            "text/plain": [
              "<Figure size 432x288 with 1 Axes>"
            ]
          },
          "metadata": {
            "tags": []
          }
        },
        {
          "output_type": "stream",
          "text": [
            "Test loss: 0.322\n",
            "Test accuracy: 0.916\n"
          ],
          "name": "stdout"
        }
      ]
    },
    {
      "cell_type": "markdown",
      "metadata": {
        "id": "z7sGHjwkUE8V",
        "colab_type": "text"
      },
      "source": [
        "It looks like the training model has gotten much better.  However, there is still much to be done about the test loss of more than 32%."
      ]
    },
    {
      "cell_type": "markdown",
      "metadata": {
        "id": "xXinH-YiR9Hm",
        "colab_type": "text"
      },
      "source": [
        "### Let's see what this model can predict..."
      ]
    },
    {
      "cell_type": "code",
      "metadata": {
        "id": "9PZw7WR_SLR_",
        "colab_type": "code",
        "colab": {
          "base_uri": "https://localhost:8080/",
          "height": 305
        },
        "outputId": "be34d4b4-8c1b-4497-aa96-bd18bee55c8d"
      },
      "source": [
        "img = int(input('Enter an index over 4440: '))\n",
        "plt.imshow(x_test[img].reshape(28,28),cmap='Greys')\n",
        "pred = model.predict(x_test[img].reshape(1, 28, 28))\n",
        "print(pred.argmax())"
      ],
      "execution_count": 26,
      "outputs": [
        {
          "output_type": "stream",
          "text": [
            "Enter an index over 4440: 1500\n",
            "1\n"
          ],
          "name": "stdout"
        },
        {
          "output_type": "display_data",
          "data": {
            "image/png": "[encoded data removed]",
            "text/plain": [
              "<Figure size 432x288 with 1 Axes>"
            ]
          },
          "metadata": {
            "tags": []
          }
        }
      ]
    },
    {
      "cell_type": "markdown",
      "metadata": {
        "id": "CJjj5Q5WUg5U",
        "colab_type": "text"
      },
      "source": [
        "## Network Depth and Layer Width\n",
        "https://medium.com/tebs-lab/how-to-classify-mnist-digits-with-different-neural-network-architectures-39c75a0f03e3 **continues...**\n"
      ]
    },
    {
      "cell_type": "markdown",
      "metadata": {
        "id": "fNcDua24SIJD",
        "colab_type": "text"
      },
      "source": [
        ""
      ]
    },
    {
      "cell_type": "code",
      "metadata": {
        "id": "QSZ7f9WSStHn",
        "colab_type": "code",
        "colab": {}
      },
      "source": [
        ""
      ],
      "execution_count": 0,
      "outputs": []
    }
  ]
}