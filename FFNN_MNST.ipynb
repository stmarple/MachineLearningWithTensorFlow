{
  "nbformat": 4,
  "nbformat_minor": 0,
  "metadata": {
    "colab": {
      "name": "FFNN_MNST.ipynb",
      "provenance": [],
      "collapsed_sections": [],
      "include_colab_link": true
    },
    "kernelspec": {
      "name": "python3",
      "display_name": "Python 3"
    }
  },
  "cells": [
    {
      "cell_type": "markdown",
      "metadata": {
        "id": "view-in-github",
        "colab_type": "text"
      },
      "source": [
        "<a href=\"https://colab.research.google.com/github/stmarple/MachineLearningWithTensorFlow/blob/master/FFNN_MNST.ipynb\" target=\"_parent\"><img src=\"https://colab.research.google.com/assets/colab-badge.svg\" alt=\"Open In Colab\"/></a>"
      ]
    },
    {
      "cell_type": "markdown",
      "metadata": {
        "id": "KECr0nCgTICr",
        "colab_type": "text"
      },
      "source": [
        "# MNIST (aka Modified National Institute of Standards and Technology Database) \n",
        "is a large database of handwritten digits used for training various image processing systems.\n",
        "https://en.wikipedia.org/wiki/MNIST_database"
      ]
    },
    {
      "cell_type": "code",
      "metadata": {
        "id": "J1nHUfemQGqi",
        "colab_type": "code",
        "colab": {}
      },
      "source": [
        "from __future__ import absolute_import, division, print_function, unicode_literals\n",
        "import tensorflow as tf"
      ],
      "execution_count": 0,
      "outputs": []
    },
    {
      "cell_type": "markdown",
      "metadata": {
        "id": "aXHHDol2Qfos",
        "colab_type": "text"
      },
      "source": [
        "### **Load and Prepare the MNIST Dataset**"
      ]
    },
    {
      "cell_type": "code",
      "metadata": {
        "id": "5acM7z7wQNHy",
        "colab_type": "code",
        "colab": {
          "base_uri": "https://localhost:8080/",
          "height": 54
        },
        "outputId": "cbf6a949-9ee2-4952-800b-d99e147092bb"
      },
      "source": [
        "mnist = tf.keras.datasets.mnist\n",
        "\n",
        "(x_train, y_train), (x_test, y_test) = mnist.load_data()\n",
        "x_train, x_test = x_train / 255.0, x_test / 255.0\n"
      ],
      "execution_count": 2,
      "outputs": [
        {
          "output_type": "stream",
          "text": [
            "Downloading data from https://storage.googleapis.com/tensorflow/tf-keras-datasets/mnist.npz\n",
            "11493376/11490434 [==============================] - 0s 0us/step\n"
          ],
          "name": "stdout"
        }
      ]
    },
    {
      "cell_type": "markdown",
      "metadata": {
        "id": "YxkB2bNwQ2Ea",
        "colab_type": "text"
      },
      "source": [
        "### **Build the `tf.keras.Sequential` model by stacking layers**"
      ]
    },
    {
      "cell_type": "code",
      "metadata": {
        "id": "bJa8S8S4QxEX",
        "colab_type": "code",
        "colab": {
          "base_uri": "https://localhost:8080/",
          "height": 92
        },
        "outputId": "4f0e7bbd-5c1b-4c35-892a-ed8790864b6b"
      },
      "source": [
        "modelA = tf.keras.models.Sequential([\n",
        "  tf.keras.layers.Flatten(input_shape=(28, 28)),\n",
        "  tf.keras.layers.Dense(256, activation='relu'),\n",
        "  tf.keras.layers.Dropout(0.2),\n",
        "  tf.keras.layers.Dense(10, activation='softmax')\n",
        "])\n",
        "\n",
        "modelA.compile(optimizer='adam', loss='sparse_categorical_crossentropy', metrics=['accuracy'])"
      ],
      "execution_count": 3,
      "outputs": [
        {
          "output_type": "stream",
          "text": [
            "WARNING:tensorflow:From /usr/local/lib/python3.6/dist-packages/tensorflow_core/python/ops/resource_variable_ops.py:1630: calling BaseResourceVariable.__init__ (from tensorflow.python.ops.resource_variable_ops) with constraint is deprecated and will be removed in a future version.\n",
            "Instructions for updating:\n",
            "If using Keras pass *_constraint arguments to layers.\n"
          ],
          "name": "stdout"
        }
      ]
    },
    {
      "cell_type": "markdown",
      "metadata": {
        "id": "RV7pIwSsRYg6",
        "colab_type": "text"
      },
      "source": [
        "### **Train and evaluate the model**\n",
        "Before we begin, we should go over a few important **hyperparameters**:\n",
        "\n",
        "1. epoch, which is the total training sequences\n",
        "2. batch_size, which is the training batch size\n",
        "3. display_freq, which is the frequency of results displaying\n",
        "4. learning_rate, which is the initial optimization learning rate\n",
        "\n",
        "see https://www.easy-tensorflow.com/tf-tutorials/neural-networks/two-layer-neural-network?view=article&id=124:two-layer-neural-network for more information."
      ]
    },
    {
      "cell_type": "code",
      "metadata": {
        "id": "tTBGUZZFQ6sx",
        "colab_type": "code",
        "outputId": "b505ee4c-2838-4b71-bce2-c5e8e92d1de4",
        "colab": {
          "base_uri": "https://localhost:8080/",
          "height": 235
        }
      },
      "source": [
        "historyA = modelA.fit(x_train, y_train, epochs=5)\n",
        "loss, accuracy  = modelA.evaluate(x_test,  y_test, verbose=2)"
      ],
      "execution_count": 4,
      "outputs": [
        {
          "output_type": "stream",
          "text": [
            "Train on 60000 samples\n",
            "Epoch 1/5\n",
            "60000/60000 [==============================] - 6s 95us/sample - loss: 0.2482 - acc: 0.9271\n",
            "Epoch 2/5\n",
            "60000/60000 [==============================] - 6s 96us/sample - loss: 0.1106 - acc: 0.9671\n",
            "Epoch 3/5\n",
            "60000/60000 [==============================] - 6s 97us/sample - loss: 0.0813 - acc: 0.9747\n",
            "Epoch 4/5\n",
            "60000/60000 [==============================] - 6s 92us/sample - loss: 0.0631 - acc: 0.9801\n",
            "Epoch 5/5\n",
            "60000/60000 [==============================] - 6s 92us/sample - loss: 0.0550 - acc: 0.9825\n",
            "10000/10000 - 0s - loss: 0.0653 - acc: 0.9800\n"
          ],
          "name": "stdout"
        }
      ]
    },
    {
      "cell_type": "code",
      "metadata": {
        "id": "TJkyORIXcVup",
        "colab_type": "code",
        "outputId": "d506b395-a786-4cd2-c788-e4b5d57578c5",
        "colab": {
          "base_uri": "https://localhost:8080/",
          "height": 331
        }
      },
      "source": [
        "import matplotlib.pyplot as plt\n",
        "\n",
        "plt.plot(historyA.history['acc'])\n",
        "plt.title('model accuracy')\n",
        "plt.ylabel('accuracy')\n",
        "plt.xlabel('epoch')\n",
        "plt.legend(['training', 'validation'], loc='best')\n",
        "plt.show()\n",
        "\n",
        "print(f'Test loss: {loss:.3}')\n",
        "print(f'Test accuracy: {accuracy:.3}')\n"
      ],
      "execution_count": 5,
      "outputs": [
        {
          "output_type": "display_data",
          "data": {
            "image/png": "[encoded data removed]",
            "text/plain": [
              "<Figure size 432x288 with 1 Axes>"
            ]
          },
          "metadata": {
            "tags": []
          }
        },
        {
          "output_type": "stream",
          "text": [
            "Test loss: 0.0653\n",
            "Test accuracy: 0.98\n"
          ],
          "name": "stdout"
        }
      ]
    },
    {
      "cell_type": "markdown",
      "metadata": {
        "id": "YS7JLBh-Q4lx",
        "colab_type": "text"
      },
      "source": [
        "*** Now that looks like some good accuracy, with small amounts of test loss! ***\n",
        "\n",
        "Let's see what it looks like when applied to a hand-written digit..."
      ]
    },
    {
      "cell_type": "code",
      "metadata": {
        "id": "3m8wNplORkRk",
        "colab_type": "code",
        "colab": {}
      },
      "source": [
        "from random import randint,sample\n",
        "\n",
        "def test_model(img):\n",
        "  plt.figure\n",
        "  plt.imshow(x_test[img].reshape(28,28),cmap='Greys')\n",
        "  pred = modelA.predict(x_test[img].reshape(1, 28, 28))\n",
        "  return pred.argmax()"
      ],
      "execution_count": 0,
      "outputs": []
    },
    {
      "cell_type": "code",
      "metadata": {
        "id": "70PyjtPiceE9",
        "colab_type": "code",
        "outputId": "ae75559a-3d3d-497b-dc52-521c3131c81e",
        "colab": {
          "base_uri": "https://localhost:8080/",
          "height": 287
        }
      },
      "source": [
        "img = randint(1,5000)\n",
        "plt.imshow(x_test[img].reshape(28,28),cmap='Greys')\n",
        "pred = modelA.predict(x_test[img].reshape(1, 28, 28))\n",
        "print(pred.argmax())"
      ],
      "execution_count": 49,
      "outputs": [
        {
          "output_type": "stream",
          "text": [
            "4\n"
          ],
          "name": "stdout"
        },
        {
          "output_type": "display_data",
          "data": {
            "image/png": "[encoded data removed]",
            "text/plain": [
              "<Figure size 432x288 with 1 Axes>"
            ]
          },
          "metadata": {
            "tags": []
          }
        }
      ]
    },
    {
      "cell_type": "markdown",
      "metadata": {
        "id": "9rAupuSnYHeB",
        "colab_type": "text"
      },
      "source": [
        "*** Looks like this classifies these digits pretty well! ***\n",
        "# In this next section... \n",
        "We will discuss alternate methods of achieving similiar success.  We will look to add nodes and layers, we will choose different optimizers and activation functions and see how that changes the outcome.  We will also go step-by-step on the models work, what each optimizer and activation functions are [that we may use in a problem like this], as well as how the steps are calculated to get a descent understanding on how the model works behind the scenes to enable us to build a foundation for understanding machine learning."
      ]
    },
    {
      "cell_type": "markdown",
      "metadata": {
        "id": "eMBPLFhA44gx",
        "colab_type": "text"
      },
      "source": [
        "\n",
        "\n",
        "---\n",
        "\n"
      ]
    },
    {
      "cell_type": "markdown",
      "metadata": {
        "id": "80MEW10qvqbN",
        "colab_type": "text"
      },
      "source": [
        "# Classification of MNIST Digits\n",
        "https://medium.com/tebs-lab/how-to-classify-mnist-digits-with-different-neural-network-architectures-39c75a0f03e3"
      ]
    },
    {
      "cell_type": "markdown",
      "metadata": {
        "id": "dE4XpoJ2uqI9",
        "colab_type": "text"
      },
      "source": [
        "**Shape**"
      ]
    },
    {
      "cell_type": "code",
      "metadata": {
        "id": "1cBmbK5bRg-Y",
        "colab_type": "code",
        "outputId": "c3bff7ad-6c5b-4941-d332-00ff52e7ac15",
        "colab": {
          "base_uri": "https://localhost:8080/",
          "height": 54
        }
      },
      "source": [
        "print('Training data shape: ', x_train.shape)\n",
        "print('Test data shape: ', x_test.shape)"
      ],
      "execution_count": 0,
      "outputs": [
        {
          "output_type": "stream",
          "text": [
            "Training data shape:  (60000, 28, 28)\n",
            "Test data shape:  (10000, 28, 28)\n"
          ],
          "name": "stdout"
        }
      ]
    },
    {
      "cell_type": "markdown",
      "metadata": {
        "id": "CZOCD4yDvCdO",
        "colab_type": "text"
      },
      "source": [
        "**Flatten Images**"
      ]
    },
    {
      "cell_type": "code",
      "metadata": {
        "id": "HEyiRYHWuicJ",
        "colab_type": "code",
        "colab": {}
      },
      "source": [
        "img_vector_size = 28**2\n",
        "x_train = x_train.reshape(x_train.shape[0], img_vector_size)\n",
        "x_test = x_test.reshape(x_test.shape[0], img_vector_size)"
      ],
      "execution_count": 0,
      "outputs": []
    },
    {
      "cell_type": "markdown",
      "metadata": {
        "id": "gqqBi2XSwi_9",
        "colab_type": "text"
      },
      "source": [
        "### Create a Vector"
      ]
    },
    {
      "cell_type": "code",
      "metadata": {
        "id": "Dj8HO3gbvfDN",
        "colab_type": "code",
        "outputId": "c9589ed1-8523-44ad-dad3-b69a0658124d",
        "colab": {
          "base_uri": "https://localhost:8080/",
          "height": 163
        }
      },
      "source": [
        "import keras\n",
        "from keras.datasets import mnist\n",
        "\n",
        "# Setup train and test splits\n",
        "(x_train, y_train), (x_test, y_test) = mnist.load_data()\n",
        "print('Training label shape: '   , y_train.shape) # 60000 numbers (all 0-9)\n",
        "print('First 5 training labels: ', y_train[:5]) # [5, 0, 4, 1, 9]\n",
        "\n",
        "# Convert to vectors using the to_categorical function\n",
        "num_classes = 10\n",
        "y_train = keras.utils.to_categorical(y_train, num_classes)\n",
        "y_test = keras.utils.to_categorical(y_test, num_classes)\n",
        "print('First 5 training lables as one-hot encoded vectors:\\n', y_train[:5])\n"
      ],
      "execution_count": 0,
      "outputs": [
        {
          "output_type": "stream",
          "text": [
            "Training label shape:  (60000,)\n",
            "First 5 training labels:  [5 0 4 1 9]\n",
            "First 5 training lables as one-hot encoded vectors:\n",
            " [[0. 0. 0. 0. 0. 1. 0. 0. 0. 0.]\n",
            " [1. 0. 0. 0. 0. 0. 0. 0. 0. 0.]\n",
            " [0. 0. 0. 0. 1. 0. 0. 0. 0. 0.]\n",
            " [0. 1. 0. 0. 0. 0. 0. 0. 0. 0.]\n",
            " [0. 0. 0. 0. 0. 0. 0. 0. 0. 1.]]\n"
          ],
          "name": "stdout"
        }
      ]
    },
    {
      "cell_type": "markdown",
      "metadata": {
        "id": "2cx4Q-4f4E-f",
        "colab_type": "text"
      },
      "source": [
        "### For fully connected neural networks, there are three essential questions that define the network’s architecture:\n",
        "1. How many layers are there?\n",
        "2. How many nodes are there in each of those layers?\n",
        "3. What transfer/activation function is used at each of those layers?"
      ]
    },
    {
      "cell_type": "markdown",
      "metadata": {
        "id": "smCnFVlc5N3f",
        "colab_type": "text"
      },
      "source": [
        "### There are 2 factors that contribute to the performance of a neural network: \n",
        "* The loss function  \n",
        "* The optimization algorithm used"
      ]
    },
    {
      "cell_type": "markdown",
      "metadata": {
        "id": "VaQ2aw3O6LCF",
        "colab_type": "text"
      },
      "source": [
        "Per the article mentioned above, the author selects:\n",
        "* A *common loss function*: **the categorical cross entropy** and \n",
        "* One of the simpler *optimization alogorithms*: **the stocastic gradient descent (SGD)**\n",
        "\n",
        "**What is cross entropy loss?**  It is a log loss that measures the performance of a classification model whose output is based on a probability between 0 and 1.\n",
        "\n",
        "More information on loss functions and optimiizers can be found here: https://ml-cheatsheet.readthedocs.io/en/latest/optimizers.html#sgd"
      ]
    },
    {
      "cell_type": "markdown",
      "metadata": {
        "id": "c_1b7gyg8zPr",
        "colab_type": "text"
      },
      "source": [
        "## Creating First Model\n",
        "Dense layers are \"fully connected\" layers\n",
        "Documentation: https://keras.io/models/sequential/\n",
        "\n",
        "The input layer requires the special input_shape parameter which should match the shape of our training data.\n",
        "\n",
        "The **image_size** is a created by flattening an image to **28 X 28 or 28^2 = 784**\n",
        "\n",
        "**num_classes** represents the number of output nodes or probabilities\n",
        "\n",
        "This model has **a single hidden layer**, **that has 32 nodes, or 32 biases** using the sigmoid activation function\n",
        "\n",
        "And, since there are 784 square units, on 1 layer, that has 32 nodes, there are **784 x 1 x 32 = 25,088 weights**, where weights represent the number of pixels\n",
        "\n",
        "Therefore, there are 25,088 + 32 biases = **25,120 parameters**\n",
        "\n",
        "There are 32 x 10, or **320 weights from hidden layer to output layer**.\n",
        "\n",
        "Each of the 10 nodes adds a single bias >> 25,120 par + 320 weights + 10 nodes = **25,450 total parameters**\n",
        "\n"
      ]
    },
    {
      "cell_type": "code",
      "metadata": {
        "id": "rWZwXyriwota",
        "colab_type": "code",
        "outputId": "bfeeba18-9f25-42c1-b167-3034043b396c",
        "colab": {
          "base_uri": "https://localhost:8080/",
          "height": 272
        }
      },
      "source": [
        "from keras.layers import Dense, Flatten \n",
        "from keras.models import Sequential \n",
        "\n",
        "image_size = 784 # 28*28\n",
        "num_classes = 10 # ten unique digits\n",
        "\n",
        "model = Sequential()\n",
        "model.add(Flatten(input_shape=(28, 28)))\n",
        "model.add(Dense(units=32, activation='sigmoid', input_shape=(image_size,)))\n",
        "model.add(Dense(units=num_classes, activation='softmax'))\n",
        "model.summary()"
      ],
      "execution_count": 0,
      "outputs": [
        {
          "output_type": "stream",
          "text": [
            "Model: \"sequential_9\"\n",
            "_________________________________________________________________\n",
            "Layer (type)                 Output Shape              Param #   \n",
            "=================================================================\n",
            "flatten_8 (Flatten)          (None, 784)               0         \n",
            "_________________________________________________________________\n",
            "dense_17 (Dense)             (None, 32)                25120     \n",
            "_________________________________________________________________\n",
            "dense_18 (Dense)             (None, 10)                330       \n",
            "=================================================================\n",
            "Total params: 25,450\n",
            "Trainable params: 25,450\n",
            "Non-trainable params: 0\n",
            "_________________________________________________________________\n"
          ],
          "name": "stdout"
        }
      ]
    },
    {
      "cell_type": "markdown",
      "metadata": {
        "id": "nEeqklEN_eir",
        "colab_type": "text"
      },
      "source": [
        "### This model contains a special activation function: the softmax.\n",
        "What makes it special is that it normalizes the values from the 10 output nodes in such a way that:\n",
        "* all the values are between 0 and 1\n",
        "* the sum of all 10 values = 1\n",
        "\n",
        "To put it another way, Softmax \"calculates the probabilities distribution of the event over 'n' different events\".  In this case, there are 10 possible probabilities, with the largest as the prediction vector.  These probabilities \"will be helpful when determining the target class for the given inputs\".\n",
        "\n",
        "More information on activation functions can be found here:\n",
        "https://ml-cheatsheet.readthedocs.io/en/latest/activation_functions.html\n"
      ]
    },
    {
      "cell_type": "markdown",
      "metadata": {
        "id": "NeR2sqRrFL4O",
        "colab_type": "text"
      },
      "source": [
        "## Train and Evaluate The Model"
      ]
    },
    {
      "cell_type": "code",
      "metadata": {
        "id": "1V57f6_G9eZK",
        "colab_type": "code",
        "outputId": "0d443e5f-ef33-4779-8dd1-736aef2179cc",
        "colab": {
          "base_uri": "https://localhost:8080/",
          "height": 217
        }
      },
      "source": [
        "model.compile(optimizer=\"sgd\", loss='categorical_crossentropy', metrics=['accuracy'])\n",
        "\n",
        "history = model.fit(x_train, y_train, batch_size=128, epochs=5, validation_split=0.05)\n",
        "loss, accuracy  = model.evaluate(x_test, y_test, verbose=False)"
      ],
      "execution_count": 0,
      "outputs": [
        {
          "output_type": "stream",
          "text": [
            "Train on 57000 samples, validate on 3000 samples\n",
            "Epoch 1/5\n",
            "57000/57000 [==============================] - 1s 26us/step - loss: 0.3778 - acc: 0.9047 - val_loss: 0.2975 - val_acc: 0.9343\n",
            "Epoch 2/5\n",
            "57000/57000 [==============================] - 1s 19us/step - loss: 0.3637 - acc: 0.9070 - val_loss: 0.2956 - val_acc: 0.9347\n",
            "Epoch 3/5\n",
            "57000/57000 [==============================] - 1s 19us/step - loss: 0.3512 - acc: 0.9098 - val_loss: 0.2872 - val_acc: 0.9313\n",
            "Epoch 4/5\n",
            "57000/57000 [==============================] - 1s 19us/step - loss: 0.3467 - acc: 0.9091 - val_loss: 0.2703 - val_acc: 0.9333\n",
            "Epoch 5/5\n",
            "57000/57000 [==============================] - 1s 19us/step - loss: 0.3336 - acc: 0.9119 - val_loss: 0.2715 - val_acc: 0.9350\n"
          ],
          "name": "stdout"
        }
      ]
    },
    {
      "cell_type": "markdown",
      "metadata": {
        "id": "G0F816xAN7hG",
        "colab_type": "text"
      },
      "source": [
        "### Graph That"
      ]
    },
    {
      "cell_type": "code",
      "metadata": {
        "id": "haWxXCpGGECZ",
        "colab_type": "code",
        "outputId": "291c0308-81be-4453-d6d4-1a238ea43926",
        "colab": {
          "base_uri": "https://localhost:8080/",
          "height": 331
        }
      },
      "source": [
        "import matplotlib.pyplot as plt\n",
        "\n",
        "plt.plot(history.history['acc'])\n",
        "plt.plot(history.history['val_acc'])\n",
        "plt.title('model accuracy')\n",
        "plt.ylabel('accuracy')\n",
        "plt.xlabel('epoch')\n",
        "plt.legend(['training', 'validation'], loc='best')\n",
        "plt.show()\n",
        "\n",
        "print(f'Test loss: {loss:.3}')\n",
        "print(f'Test accuracy: {accuracy:.3}')"
      ],
      "execution_count": 0,
      "outputs": [
        {
          "output_type": "display_data",
          "data": {
            "image/png": "[encoded data removed]",
            "text/plain": [
              "<Figure size 432x288 with 1 Axes>"
            ]
          },
          "metadata": {
            "tags": []
          }
        },
        {
          "output_type": "stream",
          "text": [
            "Test loss: 0.334\n",
            "Test accuracy: 0.914\n"
          ],
          "name": "stdout"
        }
      ]
    },
    {
      "cell_type": "markdown",
      "metadata": {
        "id": "dBISs7rNSUnQ",
        "colab_type": "text"
      },
      "source": [
        "## Create, Test, Evaluate, and Graph Again\n",
        "This time, rather than having a single layer with only 32 nodes, let's increase that to 128 nodes"
      ]
    },
    {
      "cell_type": "code",
      "metadata": {
        "id": "zeGxhDgNFmIm",
        "colab_type": "code",
        "outputId": "0f664848-b7d7-454a-9e2e-7d250673b072",
        "colab": {
          "base_uri": "https://localhost:8080/",
          "height": 785
        }
      },
      "source": [
        "image_size = 784 # 28*28\n",
        "num_classes = 10 # ten unique digits\n",
        "\n",
        "model = Sequential()\n",
        "model.add(Flatten(input_shape=(28, 28)))\n",
        "model.add(Dense(units=128, activation='sigmoid', input_shape=(image_size,))) # increase from 32 nodes to 128 **\n",
        "model.add(Dense(units=num_classes, activation='softmax'))\n",
        "model.summary()\n",
        "\n",
        "model.compile(optimizer=\"sgd\", loss='categorical_crossentropy', metrics=['accuracy'])\n",
        "\n",
        "history = model.fit(x_train, y_train, batch_size=128, epochs=5, validation_split=0.1)\n",
        "loss, accuracy  = model.evaluate(x_test, y_test, verbose=False)\n",
        "\n",
        "plt.plot(history.history['acc'])\n",
        "plt.plot(history.history['val_acc'])\n",
        "plt.title('model accuracy')\n",
        "plt.ylabel('accuracy')\n",
        "plt.xlabel('epoch')\n",
        "plt.legend(['training', 'validation'], loc='best')\n",
        "plt.show()\n",
        "\n",
        "print(f'Test loss: {loss:.3}')\n",
        "print(f'Test accuracy: {accuracy:.3}')"
      ],
      "execution_count": 0,
      "outputs": [
        {
          "output_type": "stream",
          "text": [
            "Model: \"sequential_11\"\n",
            "_________________________________________________________________\n",
            "Layer (type)                 Output Shape              Param #   \n",
            "=================================================================\n",
            "flatten_10 (Flatten)         (None, 784)               0         \n",
            "_________________________________________________________________\n",
            "dense_21 (Dense)             (None, 128)               100480    \n",
            "_________________________________________________________________\n",
            "dense_22 (Dense)             (None, 10)                1290      \n",
            "=================================================================\n",
            "Total params: 101,770\n",
            "Trainable params: 101,770\n",
            "Non-trainable params: 0\n",
            "_________________________________________________________________\n",
            "Train on 54000 samples, validate on 6000 samples\n",
            "Epoch 1/5\n",
            "54000/54000 [==============================] - 2s 46us/step - loss: 11.8640 - acc: 0.2633 - val_loss: 11.1977 - val_acc: 0.3048\n",
            "Epoch 2/5\n",
            "54000/54000 [==============================] - 2s 35us/step - loss: 11.3029 - acc: 0.2985 - val_loss: 11.1613 - val_acc: 0.3075\n",
            "Epoch 3/5\n",
            "54000/54000 [==============================] - 2s 35us/step - loss: 11.2434 - acc: 0.3023 - val_loss: 11.1344 - val_acc: 0.3088\n",
            "Epoch 4/5\n",
            "54000/54000 [==============================] - 2s 35us/step - loss: 11.2352 - acc: 0.3029 - val_loss: 11.2356 - val_acc: 0.3027\n",
            "Epoch 5/5\n",
            "54000/54000 [==============================] - 2s 36us/step - loss: 11.2858 - acc: 0.2997 - val_loss: 11.1457 - val_acc: 0.3085\n"
          ],
          "name": "stdout"
        },
        {
          "output_type": "display_data",
          "data": {
            "image/png": "[encoded data removed]",
            "text/plain": [
              "<Figure size 432x288 with 1 Axes>"
            ]
          },
          "metadata": {
            "tags": []
          }
        },
        {
          "output_type": "stream",
          "text": [
            "Test loss: 11.2\n",
            "Test accuracy: 0.305\n"
          ],
          "name": "stdout"
        }
      ]
    },
    {
      "cell_type": "markdown",
      "metadata": {
        "id": "z7sGHjwkUE8V",
        "colab_type": "text"
      },
      "source": [
        "It looks like the training model has gotten much better.  However, there is still much to be done about the test loss of more than 32%."
      ]
    },
    {
      "cell_type": "markdown",
      "metadata": {
        "id": "xXinH-YiR9Hm",
        "colab_type": "text"
      },
      "source": [
        "### Let's see what this model can predict..."
      ]
    },
    {
      "cell_type": "code",
      "metadata": {
        "id": "9PZw7WR_SLR_",
        "colab_type": "code",
        "outputId": "be34d4b4-8c1b-4497-aa96-bd18bee55c8d",
        "colab": {
          "base_uri": "https://localhost:8080/",
          "height": 305
        }
      },
      "source": [
        "img = int(input('Enter an index over 4440: '))\n",
        "plt.imshow(x_test[img].reshape(28,28),cmap='Greys')\n",
        "pred = model.predict(x_test[img].reshape(1, 28, 28))\n",
        "print(pred.argmax())"
      ],
      "execution_count": 0,
      "outputs": [
        {
          "output_type": "stream",
          "text": [
            "Enter an index over 4440: 1500\n",
            "1\n"
          ],
          "name": "stdout"
        },
        {
          "output_type": "display_data",
          "data": {
            "image/png": "[encoded data removed]",
            "text/plain": [
              "<Figure size 432x288 with 1 Axes>"
            ]
          },
          "metadata": {
            "tags": []
          }
        }
      ]
    },
    {
      "cell_type": "markdown",
      "metadata": {
        "id": "CJjj5Q5WUg5U",
        "colab_type": "text"
      },
      "source": [
        "## Network Depth and Layer Width\n",
        "https://medium.com/tebs-lab/how-to-classify-mnist-digits-with-different-neural-network-architectures-39c75a0f03e3 **continues...**\n"
      ]
    },
    {
      "cell_type": "markdown",
      "metadata": {
        "id": "fNcDua24SIJD",
        "colab_type": "text"
      },
      "source": [
        ""
      ]
    },
    {
      "cell_type": "code",
      "metadata": {
        "id": "QSZ7f9WSStHn",
        "colab_type": "code",
        "colab": {}
      },
      "source": [
        ""
      ],
      "execution_count": 0,
      "outputs": []
    }
  ]
}