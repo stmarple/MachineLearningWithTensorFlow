{
  "nbformat": 4,
  "nbformat_minor": 0,
  "metadata": {
    "colab": {
      "name": "FFNN_MNST.ipynb",
      "provenance": [],
      "collapsed_sections": [],
      "include_colab_link": true
    },
    "kernelspec": {
      "name": "python3",
      "display_name": "Python 3"
    }
  },
  "cells": [
    {
      "cell_type": "markdown",
      "metadata": {
        "id": "view-in-github",
        "colab_type": "text"
      },
      "source": [
        "<a href=\"https://colab.research.google.com/github/stmarple/MachineLearningWithTensorFlow/blob/master/FFNN_MNST.ipynb\" target=\"_parent\"><img src=\"https://colab.research.google.com/assets/colab-badge.svg\" alt=\"Open In Colab\"/></a>"
      ]
    },
    {
      "cell_type": "markdown",
      "metadata": {
        "id": "KECr0nCgTICr",
        "colab_type": "text"
      },
      "source": [
        "# MNIST (aka Modified National Institute of Standards and Technology Database) \n",
        "is a large database of handwritten digits used for training various image processing systems.\n",
        "https://en.wikipedia.org/wiki/MNIST_database"
      ]
    },
    {
      "cell_type": "code",
      "metadata": {
        "id": "J1nHUfemQGqi",
        "colab_type": "code",
        "colab": {}
      },
      "source": [
        "from __future__ import absolute_import, division, print_function, unicode_literals\n",
        "import tensorflow as tf"
      ],
      "execution_count": 0,
      "outputs": []
    },
    {
      "cell_type": "markdown",
      "metadata": {
        "id": "aXHHDol2Qfos",
        "colab_type": "text"
      },
      "source": [
        "### **Load and Prepare the MNIST Dataset**"
      ]
    },
    {
      "cell_type": "code",
      "metadata": {
        "id": "5acM7z7wQNHy",
        "colab_type": "code",
        "colab": {}
      },
      "source": [
        "mnist = tf.keras.datasets.mnist\n",
        "\n",
        "(x_train, y_train), (x_test, y_test) = mnist.load_data()\n",
        "x_train, x_test = x_train / 255.0, x_test / 255.0\n"
      ],
      "execution_count": 0,
      "outputs": []
    },
    {
      "cell_type": "markdown",
      "metadata": {
        "id": "YxkB2bNwQ2Ea",
        "colab_type": "text"
      },
      "source": [
        "### **Build the `tf.keras.Sequential` model by stacking layers**"
      ]
    },
    {
      "cell_type": "code",
      "metadata": {
        "id": "bJa8S8S4QxEX",
        "colab_type": "code",
        "colab": {}
      },
      "source": [
        "modelA = tf.keras.models.Sequential([\n",
        "  tf.keras.layers.Flatten(input_shape=(28, 28)),\n",
        "  tf.keras.layers.Dense(256, activation='relu'),\n",
        "  tf.keras.layers.Dropout(0.2),\n",
        "  tf.keras.layers.Dense(10, activation='softmax')\n",
        "])\n",
        "\n",
        "modelA.compile(optimizer='adam', loss='sparse_categorical_crossentropy', metrics=['accuracy'])"
      ],
      "execution_count": 0,
      "outputs": []
    },
    {
      "cell_type": "markdown",
      "metadata": {
        "id": "RV7pIwSsRYg6",
        "colab_type": "text"
      },
      "source": [
        "### **Train and evaluate the model**\n",
        "Before we begin, we should go over a few important **hyperparameters**:\n",
        "\n",
        "1. epoch, which is the total training sequences\n",
        "2. batch_size, which is the training batch size\n",
        "3. display_freq, which is the frequency of results displaying\n",
        "4. learning_rate, which is the initial optimization learning rate\n",
        "\n",
        "see https://www.easy-tensorflow.com/tf-tutorials/neural-networks/two-layer-neural-network?view=article&id=124:two-layer-neural-network for more information."
      ]
    },
    {
      "cell_type": "code",
      "metadata": {
        "id": "tTBGUZZFQ6sx",
        "colab_type": "code",
        "outputId": "6bce906e-e783-4032-cd85-fc670cef9fb5",
        "colab": {
          "base_uri": "https://localhost:8080/",
          "height": 235
        }
      },
      "source": [
        "historyA = modelA.fit(x_train, y_train, epochs=5)\n",
        "loss, accuracy  = modelA.evaluate(x_test,  y_test, verbose=2)"
      ],
      "execution_count": 94,
      "outputs": [
        {
          "output_type": "stream",
          "text": [
            "Train on 60000 samples\n",
            "Epoch 1/5\n",
            "60000/60000 [==============================] - 6s 99us/sample - loss: 0.2524 - acc: 0.9266\n",
            "Epoch 2/5\n",
            "60000/60000 [==============================] - 6s 95us/sample - loss: 0.1147 - acc: 0.9662\n",
            "Epoch 3/5\n",
            "60000/60000 [==============================] - 6s 104us/sample - loss: 0.0844 - acc: 0.9740\n",
            "Epoch 4/5\n",
            "60000/60000 [==============================] - 6s 104us/sample - loss: 0.0648 - acc: 0.9796\n",
            "Epoch 5/5\n",
            "60000/60000 [==============================] - 6s 98us/sample - loss: 0.0543 - acc: 0.9822\n",
            "10000/10000 - 0s - loss: 0.0724 - acc: 0.9780\n"
          ],
          "name": "stdout"
        }
      ]
    },
    {
      "cell_type": "markdown",
      "metadata": {
        "id": "fjiXGgUkbnE_",
        "colab_type": "text"
      },
      "source": [
        "**Shape**\n",
        "\n",
        "From here, we can extrapolate that the training data set has 60,000 samples of images with the dimensions 28 X 28.  We also see that the test sample is composed of 10,000 samples of images of the same dimensions."
      ]
    },
    {
      "cell_type": "code",
      "metadata": {
        "id": "1cBmbK5bRg-Y",
        "colab_type": "code",
        "outputId": "2ca6d0a8-e804-42b5-cc17-98bca5df3cfc",
        "colab": {
          "base_uri": "https://localhost:8080/",
          "height": 54
        }
      },
      "source": [
        "print('Training data shape: ', x_train.shape)\n",
        "print('Test data shape: ', x_test.shape)"
      ],
      "execution_count": 95,
      "outputs": [
        {
          "output_type": "stream",
          "text": [
            "Training data shape:  (60000, 28, 28)\n",
            "Test data shape:  (10000, 28, 28)\n"
          ],
          "name": "stdout"
        }
      ]
    },
    {
      "cell_type": "markdown",
      "metadata": {
        "id": "CZOCD4yDvCdO",
        "colab_type": "text"
      },
      "source": [
        "**Flatten Images**\n",
        "\n",
        "The image vector size is the square units of each image.  In this case, 28 * 28, or 784.   \n",
        "As we saw above, x_train = [60000, 28, 28], so x_train[0] is equal to our sample size, or 60,000.    \n",
        "As the section says, we are trying to flatten this image.  Rather than being 3 dimensional 60k X 28 X 28,\n",
        "we are flattening the image population down to area.  So we will be down to (sample size, area) for each: training set and test set."
      ]
    },
    {
      "cell_type": "code",
      "metadata": {
        "id": "HEyiRYHWuicJ",
        "colab_type": "code",
        "colab": {}
      },
      "source": [
        "img_vector_size = 28**2\n",
        "x_train = x_train.reshape(x_train.shape[0], img_vector_size)\n",
        "x_test = x_test.reshape(x_test.shape[0], img_vector_size)"
      ],
      "execution_count": 0,
      "outputs": []
    },
    {
      "cell_type": "code",
      "metadata": {
        "id": "TJkyORIXcVup",
        "colab_type": "code",
        "outputId": "fa982b27-d8c2-49a7-e6ba-d35122fa7a10",
        "colab": {
          "base_uri": "https://localhost:8080/",
          "height": 331
        }
      },
      "source": [
        "import matplotlib.pyplot as plt\n",
        "\n",
        "plt.plot(historyA.history['acc'])\n",
        "plt.title('model accuracy')\n",
        "plt.ylabel('accuracy')\n",
        "plt.xlabel('epoch')\n",
        "plt.legend(['training', 'validation'], loc='best')\n",
        "plt.show()\n",
        "\n",
        "print(f'Test loss: {loss:.3}')\n",
        "print(f'Test accuracy: {accuracy:.3}')\n"
      ],
      "execution_count": 97,
      "outputs": [
        {
          "output_type": "display_data",
          "data": {
            "image/png": "[encoded data removed]",
            "text/plain": [
              "<Figure size 432x288 with 1 Axes>"
            ]
          },
          "metadata": {
            "tags": []
          }
        },
        {
          "output_type": "stream",
          "text": [
            "Test loss: 0.0724\n",
            "Test accuracy: 0.978\n"
          ],
          "name": "stdout"
        }
      ]
    },
    {
      "cell_type": "markdown",
      "metadata": {
        "id": "YS7JLBh-Q4lx",
        "colab_type": "text"
      },
      "source": [
        "*** Now that looks like some good accuracy, with small amounts of test loss! ***\n",
        "\n",
        "Let's see what it looks like when applied to a hand-written digit..."
      ]
    },
    {
      "cell_type": "code",
      "metadata": {
        "id": "3m8wNplORkRk",
        "colab_type": "code",
        "colab": {}
      },
      "source": [
        "from random import randint,sample\n",
        "\n",
        "def test_model(img):\n",
        "  plt.figure\n",
        "  plt.imshow(x_test[img].reshape(28,28),cmap='Greys')\n",
        "  pred = modelA.predict(x_test[img].reshape(1, 28, 28))\n",
        "  return pred.argmax()"
      ],
      "execution_count": 0,
      "outputs": []
    },
    {
      "cell_type": "code",
      "metadata": {
        "id": "70PyjtPiceE9",
        "colab_type": "code",
        "outputId": "75ac80dd-57af-4cac-d3df-0ef0029712dc",
        "colab": {
          "base_uri": "https://localhost:8080/",
          "height": 287
        }
      },
      "source": [
        "img = randint(1,5000)\n",
        "plt.imshow(x_test[img].reshape(28,28),cmap='Greys')\n",
        "pred = modelA.predict(x_test[img].reshape(1, 28, 28))\n",
        "print(pred.argmax())"
      ],
      "execution_count": 99,
      "outputs": [
        {
          "output_type": "stream",
          "text": [
            "6\n"
          ],
          "name": "stdout"
        },
        {
          "output_type": "display_data",
          "data": {
            "image/png": "[encoded data removed]",
            "text/plain": [
              "<Figure size 432x288 with 1 Axes>"
            ]
          },
          "metadata": {
            "tags": []
          }
        }
      ]
    },
    {
      "cell_type": "markdown",
      "metadata": {
        "id": "9rAupuSnYHeB",
        "colab_type": "text"
      },
      "source": [
        "*** Looks like this classifies these digits pretty well! ***\n",
        "# In this next section... \n",
        "We will discuss alternate methods of achieving similiar success.  We will look to add nodes and layers, we will choose different optimizers and activation functions and see how that changes the outcome.  We will also go step-by-step on the models work, what each optimizer and activation functions are [that we may use in a problem like this], as well as how the steps are calculated to get a descent understanding on how the model works behind the scenes to enable us to build a foundation for understanding machine learning."
      ]
    },
    {
      "cell_type": "markdown",
      "metadata": {
        "id": "eMBPLFhA44gx",
        "colab_type": "text"
      },
      "source": [
        "\n",
        "\n",
        "---\n",
        "\n"
      ]
    },
    {
      "cell_type": "markdown",
      "metadata": {
        "id": "80MEW10qvqbN",
        "colab_type": "text"
      },
      "source": [
        "# Classification of MNIST Digits\n",
        "https://medium.com/tebs-lab/how-to-classify-mnist-digits-with-different-neural-network-architectures-39c75a0f03e3 \n",
        "\n",
        "Before we get started, there a just few things we should talk about:  \n",
        "* **Training data** is the data that our model will be learning from\n",
        "* **Test data** is the data that is kept a secret until after the model has been trained, and then evaluated against\n",
        "* A **loss function** is used to quantify how accurate our model's predictions are. \n",
        "  These are the amount of error involved.  Some typical loss functions are:\n",
        "  - Mean Squared Error (MSE)\n",
        "  - Mean Absolute Error (MAE)\n",
        "  - Mean Bias Error (MBE)\n",
        "  - Cross Entropy Loss / Negative Log Likelihood\n",
        "  Many of these I have seen in my studies in Statistics\n",
        "* An **optimization algorithm** controls the weights, that are adjusted during training.\n",
        "\n",
        "\n",
        "\n",
        "For more information on loss functions, you can find it here:\n",
        "\n",
        "https://towardsdatascience.com/common-loss-functions-in-machine-learning-46af0ffc4d23\n"
      ]
    },
    {
      "cell_type": "markdown",
      "metadata": {
        "id": "8wqHkz1TqCFN",
        "colab_type": "text"
      },
      "source": [
        "### Calculating Cross Entropy Loss\n",
        "Since Cross Entropy Loss is the most common setting for classification problems, we will take a closer look at its calculation."
      ]
    },
    {
      "cell_type": "code",
      "metadata": {
        "id": "mWv-PrkfqAxS",
        "colab_type": "code",
        "colab": {
          "base_uri": "https://localhost:8080/",
          "height": 35
        },
        "outputId": "d39ea6fa-6600-4b54-9cce-4b9ff64f4312"
      },
      "source": [
        "import numpy as np\n",
        "\n",
        "predictions = np.array([[0.25,0.25,0.25,0.25], [0.01,0.01,0.01,0.96]])\n",
        "targets     = np.array([[0,0,0,1], [0,0,0,1]])\n",
        "\n",
        "def cross_entropy(predictions, targets, epsilon=1e-10):\n",
        "    predictions = np.clip(predictions, epsilon, 1. - epsilon)\n",
        "    N = predictions.shape[0]\n",
        "    ce_loss = -np.sum(np.sum(targets * np.log(predictions + 1e-5)))/N\n",
        "    return ce_loss\n",
        "  \n",
        "cross_entropy_loss = cross_entropy(predictions, targets)\n",
        "\n",
        "print (\"Cross entropy loss is: {}\".format(cross_entropy_loss))"
      ],
      "execution_count": 102,
      "outputs": [
        {
          "output_type": "stream",
          "text": [
            "Cross entropy loss is: 0.7135329699138555\n"
          ],
          "name": "stdout"
        }
      ]
    },
    {
      "cell_type": "markdown",
      "metadata": {
        "id": "kYWvdg5trIV3",
        "colab_type": "text"
      },
      "source": [
        "# Discuss Cross Entropy here"
      ]
    },
    {
      "cell_type": "markdown",
      "metadata": {
        "id": "gqqBi2XSwi_9",
        "colab_type": "text"
      },
      "source": [
        "### Create a Vector"
      ]
    },
    {
      "cell_type": "code",
      "metadata": {
        "id": "Dj8HO3gbvfDN",
        "colab_type": "code",
        "outputId": "94f81892-19e4-4f39-f3f2-0e47de0ed00f",
        "colab": {
          "base_uri": "https://localhost:8080/",
          "height": 163
        }
      },
      "source": [
        "import keras\n",
        "from keras.datasets import mnist\n",
        "\n",
        "# Setup train and test splits\n",
        "(x_train, y_train), (x_test, y_test) = mnist.load_data()\n",
        "print('Training label shape: '   , y_train.shape) # 60000 numbers (all 0-9)\n",
        "print('First 5 training labels: ', y_train[:5]) # [5, 0, 4, 1, 9]\n",
        "\n",
        "# Convert to vectors using the to_categorical function\n",
        "num_classes = 10\n",
        "y_train = keras.utils.to_categorical(y_train, num_classes)\n",
        "y_test = keras.utils.to_categorical(y_test, num_classes)\n",
        "print('First 5 training lables as one-hot encoded vectors:\\n', y_train[:5])\n"
      ],
      "execution_count": 100,
      "outputs": [
        {
          "output_type": "stream",
          "text": [
            "Training label shape:  (60000,)\n",
            "First 5 training labels:  [5 0 4 1 9]\n",
            "First 5 training lables as one-hot encoded vectors:\n",
            " [[0. 0. 0. 0. 0. 1. 0. 0. 0. 0.]\n",
            " [1. 0. 0. 0. 0. 0. 0. 0. 0. 0.]\n",
            " [0. 0. 0. 0. 1. 0. 0. 0. 0. 0.]\n",
            " [0. 1. 0. 0. 0. 0. 0. 0. 0. 0.]\n",
            " [0. 0. 0. 0. 0. 0. 0. 0. 0. 1.]]\n"
          ],
          "name": "stdout"
        }
      ]
    },
    {
      "cell_type": "markdown",
      "metadata": {
        "id": "sptJwBwXeVJL",
        "colab_type": "text"
      },
      "source": [
        "The **number of classes** represents the number of unique digits we have.  This will be the number of categories we can split them up into.  This number represents the number of output nodes or probabilities."
      ]
    },
    {
      "cell_type": "markdown",
      "metadata": {
        "id": "2cx4Q-4f4E-f",
        "colab_type": "text"
      },
      "source": [
        "### For fully connected neural networks, there are three essential questions that define the network’s architecture:\n",
        "1. How many layers are there?\n",
        "2. How many nodes are there in each of those layers?\n",
        "3. What transfer/activation function is used at each of those layers?"
      ]
    },
    {
      "cell_type": "markdown",
      "metadata": {
        "id": "smCnFVlc5N3f",
        "colab_type": "text"
      },
      "source": [
        "### There are 2 factors that contribute to the performance of a neural network: \n",
        "* The loss function  \n",
        "* The optimization algorithm used"
      ]
    },
    {
      "cell_type": "markdown",
      "metadata": {
        "id": "VaQ2aw3O6LCF",
        "colab_type": "text"
      },
      "source": [
        "Per the article mentioned above, the author selects:\n",
        "* A *common loss function*: **the categorical cross entropy** and \n",
        "* One of the simpler *optimization alogorithms*: **the stocastic gradient descent (SGD)**\n",
        "\n",
        "**What is cross entropy loss?**  It is a log loss that measures the performance of a classification model whose output is based on a probability between 0 and 1.\n",
        "\n",
        "More information on loss functions and optimiizers can be found here: https://ml-cheatsheet.readthedocs.io/en/latest/optimizers.html#sgd"
      ]
    },
    {
      "cell_type": "markdown",
      "metadata": {
        "id": "c_1b7gyg8zPr",
        "colab_type": "text"
      },
      "source": [
        "## Creating First Model\n",
        "Dense layers are \"fully connected\" layers\n",
        "Documentation: https://keras.io/models/sequential/\n",
        "\n",
        "The input layer requires the special input_shape parameter which should match the shape of our training data.\n",
        "\n",
        "The **image_size** is a created by flattening an image to **28 X 28 or 28^2 = 784**\n",
        "\n",
        "This model has **a single hidden layer**, **that has 32 nodes, or 32 biases** using the sigmoid activation function\n",
        "\n",
        "And, since there are 784 square units, on 1 layer, that has 32 nodes, there are **784 x 1 x 32 = 25,088 weights**, where weights represent the number of pixels\n",
        "\n",
        "Therefore, there are 25,088 + 32 biases = **25,120 parameters**\n",
        "\n",
        "There are 32 x 10, or **320 weights from hidden layer to output layer**.\n",
        "\n",
        "Each of the 10 nodes adds a single bias >> 25,120 par + 320 weights + 10 nodes = **25,450 total parameters**\n",
        "\n"
      ]
    },
    {
      "cell_type": "code",
      "metadata": {
        "id": "rWZwXyriwota",
        "colab_type": "code",
        "outputId": "8d031cb2-9f37-46ba-dfce-a0917b629406",
        "colab": {
          "base_uri": "https://localhost:8080/",
          "height": 381
        }
      },
      "source": [
        "from keras.layers import Dense, Flatten \n",
        "from keras.models import Sequential \n",
        "\n",
        "image_size = 784 # 28*28\n",
        "num_classes = 10 # ten unique digits\n",
        "\n",
        "model = Sequential()\n",
        "model.add(Flatten(input_shape=(28, 28)))\n",
        "model.add(Dense(units=32, activation='sigmoid', input_shape=(image_size,)))\n",
        "model.add(Dense(units=num_classes, activation='softmax'))\n",
        "model.summary()"
      ],
      "execution_count": 0,
      "outputs": [
        {
          "output_type": "stream",
          "text": [
            "WARNING:tensorflow:From /usr/local/lib/python3.6/dist-packages/keras/backend/tensorflow_backend.py:66: The name tf.get_default_graph is deprecated. Please use tf.compat.v1.get_default_graph instead.\n",
            "\n",
            "WARNING:tensorflow:From /usr/local/lib/python3.6/dist-packages/keras/backend/tensorflow_backend.py:541: The name tf.placeholder is deprecated. Please use tf.compat.v1.placeholder instead.\n",
            "\n",
            "WARNING:tensorflow:From /usr/local/lib/python3.6/dist-packages/keras/backend/tensorflow_backend.py:4432: The name tf.random_uniform is deprecated. Please use tf.random.uniform instead.\n",
            "\n",
            "Model: \"sequential_1\"\n",
            "_________________________________________________________________\n",
            "Layer (type)                 Output Shape              Param #   \n",
            "=================================================================\n",
            "flatten_1 (Flatten)          (None, 784)               0         \n",
            "_________________________________________________________________\n",
            "dense_1 (Dense)              (None, 32)                25120     \n",
            "_________________________________________________________________\n",
            "dense_2 (Dense)              (None, 10)                330       \n",
            "=================================================================\n",
            "Total params: 25,450\n",
            "Trainable params: 25,450\n",
            "Non-trainable params: 0\n",
            "_________________________________________________________________\n"
          ],
          "name": "stdout"
        }
      ]
    },
    {
      "cell_type": "markdown",
      "metadata": {
        "id": "nEeqklEN_eir",
        "colab_type": "text"
      },
      "source": [
        "### This model contains a special activation function: the softmax.\n",
        "What makes it special is that it normalizes the values from the 10 output nodes in such a way that:\n",
        "* all the values are between 0 and 1\n",
        "* the sum of all 10 values = 1\n",
        "\n",
        "To put it another way, Softmax \"calculates the probabilities distribution of the event over 'n' different events\".  In this case, there are 10 possible probabilities, with the largest as the prediction vector.  These probabilities \"will be helpful when determining the target class for the given inputs\".\n",
        "\n",
        "More information on activation functions can be found here:\n",
        "https://ml-cheatsheet.readthedocs.io/en/latest/activation_functions.html\n"
      ]
    },
    {
      "cell_type": "markdown",
      "metadata": {
        "id": "NeR2sqRrFL4O",
        "colab_type": "text"
      },
      "source": [
        "## Train and Evaluate The Model"
      ]
    },
    {
      "cell_type": "code",
      "metadata": {
        "id": "1V57f6_G9eZK",
        "colab_type": "code",
        "outputId": "a64cfb53-5bf5-4551-8387-4dd8c9f618dc",
        "colab": {
          "base_uri": "https://localhost:8080/",
          "height": 655
        }
      },
      "source": [
        "model.compile(optimizer=\"sgd\", loss='categorical_crossentropy', metrics=['accuracy'])\n",
        "\n",
        "history = model.fit(x_train, y_train, batch_size=128, epochs=5, validation_split=0.05)\n",
        "loss, accuracy  = model.evaluate(x_test, y_test, verbose=False)"
      ],
      "execution_count": 0,
      "outputs": [
        {
          "output_type": "stream",
          "text": [
            "WARNING:tensorflow:From /usr/local/lib/python3.6/dist-packages/keras/optimizers.py:793: The name tf.train.Optimizer is deprecated. Please use tf.compat.v1.train.Optimizer instead.\n",
            "\n",
            "WARNING:tensorflow:From /usr/local/lib/python3.6/dist-packages/keras/backend/tensorflow_backend.py:3576: The name tf.log is deprecated. Please use tf.math.log instead.\n",
            "\n",
            "WARNING:tensorflow:From /usr/local/lib/python3.6/dist-packages/tensorflow_core/python/ops/math_grad.py:1424: where (from tensorflow.python.ops.array_ops) is deprecated and will be removed in a future version.\n",
            "Instructions for updating:\n",
            "Use tf.where in 2.0, which has the same broadcast rule as np.where\n",
            "WARNING:tensorflow:From /usr/local/lib/python3.6/dist-packages/keras/backend/tensorflow_backend.py:1033: The name tf.assign_add is deprecated. Please use tf.compat.v1.assign_add instead.\n",
            "\n",
            "WARNING:tensorflow:From /usr/local/lib/python3.6/dist-packages/keras/backend/tensorflow_backend.py:1020: The name tf.assign is deprecated. Please use tf.compat.v1.assign instead.\n",
            "\n",
            "WARNING:tensorflow:From /usr/local/lib/python3.6/dist-packages/keras/backend/tensorflow_backend.py:3005: The name tf.Session is deprecated. Please use tf.compat.v1.Session instead.\n",
            "\n",
            "Train on 57000 samples, validate on 3000 samples\n",
            "Epoch 1/5\n",
            "WARNING:tensorflow:From /usr/local/lib/python3.6/dist-packages/keras/backend/tensorflow_backend.py:190: The name tf.get_default_session is deprecated. Please use tf.compat.v1.get_default_session instead.\n",
            "\n",
            "WARNING:tensorflow:From /usr/local/lib/python3.6/dist-packages/keras/backend/tensorflow_backend.py:197: The name tf.ConfigProto is deprecated. Please use tf.compat.v1.ConfigProto instead.\n",
            "\n",
            "WARNING:tensorflow:From /usr/local/lib/python3.6/dist-packages/keras/backend/tensorflow_backend.py:207: The name tf.global_variables is deprecated. Please use tf.compat.v1.global_variables instead.\n",
            "\n",
            "WARNING:tensorflow:From /usr/local/lib/python3.6/dist-packages/keras/backend/tensorflow_backend.py:216: The name tf.is_variable_initialized is deprecated. Please use tf.compat.v1.is_variable_initialized instead.\n",
            "\n",
            "WARNING:tensorflow:From /usr/local/lib/python3.6/dist-packages/keras/backend/tensorflow_backend.py:223: The name tf.variables_initializer is deprecated. Please use tf.compat.v1.variables_initializer instead.\n",
            "\n",
            "57000/57000 [==============================] - 1s 25us/step - loss: 1.4272 - acc: 0.6377 - val_loss: 0.9483 - val_acc: 0.8383\n",
            "Epoch 2/5\n",
            "57000/57000 [==============================] - 1s 21us/step - loss: 0.8590 - acc: 0.8312 - val_loss: 0.6632 - val_acc: 0.8900\n",
            "Epoch 3/5\n",
            "57000/57000 [==============================] - 1s 20us/step - loss: 0.6715 - acc: 0.8613 - val_loss: 0.5316 - val_acc: 0.9080\n",
            "Epoch 4/5\n",
            "57000/57000 [==============================] - 1s 21us/step - loss: 0.5728 - acc: 0.8760 - val_loss: 0.4661 - val_acc: 0.9063\n",
            "Epoch 5/5\n",
            "57000/57000 [==============================] - 1s 20us/step - loss: 0.5104 - acc: 0.8843 - val_loss: 0.4061 - val_acc: 0.9223\n"
          ],
          "name": "stdout"
        }
      ]
    },
    {
      "cell_type": "markdown",
      "metadata": {
        "id": "G0F816xAN7hG",
        "colab_type": "text"
      },
      "source": [
        "### Graph That"
      ]
    },
    {
      "cell_type": "code",
      "metadata": {
        "id": "haWxXCpGGECZ",
        "colab_type": "code",
        "outputId": "a78d9c69-e782-4d82-8745-0eec0a83c2df",
        "colab": {
          "base_uri": "https://localhost:8080/",
          "height": 331
        }
      },
      "source": [
        "import matplotlib.pyplot as plt\n",
        "\n",
        "plt.plot(history.history['acc'])\n",
        "plt.plot(history.history['val_acc'])\n",
        "plt.title('model accuracy')\n",
        "plt.ylabel('accuracy')\n",
        "plt.xlabel('epoch')\n",
        "plt.legend(['training', 'validation'], loc='best')\n",
        "plt.show()\n",
        "\n",
        "print(f'Test loss: {loss:.3}')\n",
        "print(f'Test accuracy: {accuracy:.3}')"
      ],
      "execution_count": 0,
      "outputs": [
        {
          "output_type": "display_data",
          "data": {
            "image/png": "[encoded data removed]",
            "text/plain": [
              "<Figure size 432x288 with 1 Axes>"
            ]
          },
          "metadata": {
            "tags": []
          }
        },
        {
          "output_type": "stream",
          "text": [
            "Test loss: 0.473\n",
            "Test accuracy: 0.894\n"
          ],
          "name": "stdout"
        }
      ]
    },
    {
      "cell_type": "markdown",
      "metadata": {
        "id": "dBISs7rNSUnQ",
        "colab_type": "text"
      },
      "source": [
        "## Create, Test, Evaluate, and Graph Again\n",
        "This time, rather than having a single layer with only 32 nodes, let's increase that to 128 nodes"
      ]
    },
    {
      "cell_type": "code",
      "metadata": {
        "id": "zeGxhDgNFmIm",
        "colab_type": "code",
        "outputId": "fba3dfcd-1bf1-4d91-f632-0771be8ba125",
        "colab": {
          "base_uri": "https://localhost:8080/",
          "height": 785
        }
      },
      "source": [
        "image_size = 784 # 28*28\n",
        "num_classes = 10 # ten unique digits\n",
        "\n",
        "model = Sequential()\n",
        "model.add(Flatten(input_shape=(28, 28)))\n",
        "model.add(Dense(units=128, activation='sigmoid', input_shape=(image_size,))) # increase from 32 nodes to 128 **\n",
        "model.add(Dense(units=num_classes, activation='softmax'))\n",
        "model.summary()\n",
        "\n",
        "model.compile(optimizer=\"sgd\", loss='categorical_crossentropy', metrics=['accuracy'])\n",
        "\n",
        "history = model.fit(x_train, y_train, batch_size=128, epochs=5, validation_split=0.1)\n",
        "loss, accuracy  = model.evaluate(x_test, y_test, verbose=False)\n",
        "\n",
        "plt.plot(history.history['acc'])\n",
        "plt.plot(history.history['val_acc'])\n",
        "plt.title('model accuracy')\n",
        "plt.ylabel('accuracy')\n",
        "plt.xlabel('epoch')\n",
        "plt.legend(['training', 'validation'], loc='best')\n",
        "plt.show()\n",
        "\n",
        "print(f'Test loss: {loss:.3}')\n",
        "print(f'Test accuracy: {accuracy:.3}')"
      ],
      "execution_count": 0,
      "outputs": [
        {
          "output_type": "stream",
          "text": [
            "Model: \"sequential_2\"\n",
            "_________________________________________________________________\n",
            "Layer (type)                 Output Shape              Param #   \n",
            "=================================================================\n",
            "flatten_2 (Flatten)          (None, 784)               0         \n",
            "_________________________________________________________________\n",
            "dense_3 (Dense)              (None, 128)               100480    \n",
            "_________________________________________________________________\n",
            "dense_4 (Dense)              (None, 10)                1290      \n",
            "=================================================================\n",
            "Total params: 101,770\n",
            "Trainable params: 101,770\n",
            "Non-trainable params: 0\n",
            "_________________________________________________________________\n",
            "Train on 54000 samples, validate on 6000 samples\n",
            "Epoch 1/5\n",
            "54000/54000 [==============================] - 2s 37us/step - loss: 1.0487 - acc: 0.7325 - val_loss: 0.5697 - val_acc: 0.8762\n",
            "Epoch 2/5\n",
            "54000/54000 [==============================] - 2s 34us/step - loss: 0.5446 - acc: 0.8663 - val_loss: 0.4015 - val_acc: 0.9103\n",
            "Epoch 3/5\n",
            "54000/54000 [==============================] - 2s 36us/step - loss: 0.4316 - acc: 0.8894 - val_loss: 0.3351 - val_acc: 0.9210\n",
            "Epoch 4/5\n",
            "54000/54000 [==============================] - 2s 35us/step - loss: 0.3738 - acc: 0.9026 - val_loss: 0.2950 - val_acc: 0.9283\n",
            "Epoch 5/5\n",
            "54000/54000 [==============================] - 2s 36us/step - loss: 0.3383 - acc: 0.9102 - val_loss: 0.2691 - val_acc: 0.9313\n"
          ],
          "name": "stdout"
        },
        {
          "output_type": "display_data",
          "data": {
            "image/png": "[encoded data removed]",
            "text/plain": [
              "<Figure size 432x288 with 1 Axes>"
            ]
          },
          "metadata": {
            "tags": []
          }
        },
        {
          "output_type": "stream",
          "text": [
            "Test loss: 0.314\n",
            "Test accuracy: 0.917\n"
          ],
          "name": "stdout"
        }
      ]
    },
    {
      "cell_type": "markdown",
      "metadata": {
        "id": "z7sGHjwkUE8V",
        "colab_type": "text"
      },
      "source": [
        "It looks like the training model has gotten much better.  However, there is still much to be done about the test loss of more than 32%."
      ]
    },
    {
      "cell_type": "markdown",
      "metadata": {
        "id": "xXinH-YiR9Hm",
        "colab_type": "text"
      },
      "source": [
        "### Let's see what this model can predict..."
      ]
    },
    {
      "cell_type": "code",
      "metadata": {
        "id": "9PZw7WR_SLR_",
        "colab_type": "code",
        "outputId": "3578c3bc-1466-4281-db38-ba938435b9a2",
        "colab": {
          "base_uri": "https://localhost:8080/",
          "height": 287
        }
      },
      "source": [
        "img = 1500\n",
        "plt.imshow(x_test[img].reshape(28,28),cmap='Greys')\n",
        "pred = model.predict(x_test[img].reshape(1, 28, 28))\n",
        "print(pred.argmax())"
      ],
      "execution_count": 0,
      "outputs": [
        {
          "output_type": "stream",
          "text": [
            "1\n"
          ],
          "name": "stdout"
        },
        {
          "output_type": "display_data",
          "data": {
            "image/png": "[encoded data removed]",
            "text/plain": [
              "<Figure size 432x288 with 1 Axes>"
            ]
          },
          "metadata": {
            "tags": []
          }
        }
      ]
    },
    {
      "cell_type": "markdown",
      "metadata": {
        "id": "aPKGM7rSa3OR",
        "colab_type": "text"
      },
      "source": [
        "*** Looks like we still have some work to do! ***\n",
        "\n",
        "This image is obviously not a 1.  We will look to increase accuracy in the next section."
      ]
    },
    {
      "cell_type": "markdown",
      "metadata": {
        "id": "CJjj5Q5WUg5U",
        "colab_type": "text"
      },
      "source": [
        "## Network Depth and Layer Width\n",
        "https://medium.com/tebs-lab/how-to-classify-mnist-digits-with-different-neural-network-architectures-39c75a0f03e3 **continues...**\n"
      ]
    },
    {
      "cell_type": "markdown",
      "metadata": {
        "id": "fNcDua24SIJD",
        "colab_type": "text"
      },
      "source": [
        ""
      ]
    },
    {
      "cell_type": "code",
      "metadata": {
        "id": "QSZ7f9WSStHn",
        "colab_type": "code",
        "colab": {}
      },
      "source": [
        ""
      ],
      "execution_count": 0,
      "outputs": []
    }
  ]
}