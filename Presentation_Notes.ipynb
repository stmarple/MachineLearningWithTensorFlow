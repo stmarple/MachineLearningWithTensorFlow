{
  "nbformat": 4,
  "nbformat_minor": 0,
  "metadata": {
    "colab": {
      "name": "Presentation_Notes.ipynb",
      "provenance": [],
      "collapsed_sections": [],
      "include_colab_link": true
    },
    "kernelspec": {
      "name": "python3",
      "display_name": "Python 3"
    }
  },
  "cells": [
    {
      "cell_type": "markdown",
      "metadata": {
        "id": "view-in-github",
        "colab_type": "text"
      },
      "source": [
        "<a href=\"https://colab.research.google.com/github/stmarple/MachineLearningWithTensorFlow/blob/master/Presentation_Notes.ipynb\" target=\"_parent\"><img src=\"https://colab.research.google.com/assets/colab-badge.svg\" alt=\"Open In Colab\"/></a>"
      ]
    },
    {
      "cell_type": "markdown",
      "metadata": {
        "id": "9Ix6D1n0I9mX",
        "colab_type": "text"
      },
      "source": [
        "## MNIST (aka Modified National Institute of Standards and Technology Database) \n",
        "is a large database of handwritten digits used for training various image processing systems.\n",
        "https://en.wikipedia.org/wiki/MNIST_database"
      ]
    },
    {
      "cell_type": "code",
      "metadata": {
        "id": "gvKnbE0kI1GB",
        "colab_type": "code",
        "colab": {}
      },
      "source": [
        "from __future__ import absolute_import, division, print_function, unicode_literals\n",
        "import tensorflow as tf, numpy as np"
      ],
      "execution_count": 0,
      "outputs": []
    },
    {
      "cell_type": "markdown",
      "metadata": {
        "id": "T2bbx6zfJjrS",
        "colab_type": "text"
      },
      "source": [
        "Before we begin, we should go over a few important **hyperparameters**:\n",
        "​\n",
        "1. **epoch**, which is the total training sequences\n",
        "2. **batch_size**, which is the training batch size\n",
        "3. display_freq, which is the frequency of results displaying\n",
        "4. learning_rate, which is the initial optimization learning rate\n",
        "​\n",
        "\n",
        "5. **Training data** is the data that our model will be learning from\n",
        "6. **Test data** is the data that is kept a secret until after the model has been trained, and then evaluated against\n",
        "7. A **loss function** is used to quantify how accurate our model's predictions are. \n",
        "  These are the amount of error involved.  Some typical loss functions are:\n",
        "  - Mean Squared Error (MSE)\n",
        "  - Mean Absolute Error (MAE)\n",
        "  - Mean Bias Error (MBE)\n",
        "  - **Cross Entropy Loss** / Negative Log Likelihood\n",
        "  \n",
        "  Many of these I have seen in my studies in Statistics\n",
        "8. An **optimization algorithm** controls the weights, that are adjusted during training.\n",
        "\n",
        "\n",
        "The 2 factors that contribute toe the performance of the neural network are:\n",
        "* The loss function\n",
        "* The optimization algorithm"
      ]
    },
    {
      "cell_type": "markdown",
      "metadata": {
        "id": "MmSxVAGlJjny",
        "colab_type": "text"
      },
      "source": [
        "## Calculating Cross Entropy"
      ]
    },
    {
      "cell_type": "markdown",
      "metadata": {
        "id": "Q-3M1uHeJjjr",
        "colab_type": "text"
      },
      "source": [
        "# [Categorical] Cross Entropy:\n",
        "## H(p, q) = E<sub>p</sub> [ -log q(x) ] = -$\\sum_{i}^C$ p<sub>i</sub>(x) * Log q<sub>i</sub>(x)\n",
        "Where:\n",
        "* p is the true probability, given the distribution\n",
        "* q is the predicted value of the current model\n",
        "* C is the number of classes, which in our digit classification problem, would be 10\n",
        "* The above formula is how we find it in many websites.  However, the log is actually base e, not implied base 10, so it should actually be log<sub>e</sub> , or LN. So from now on, in this document, LN is how I'll be writing it; to avoid further confusion.\n",
        "\n",
        "### _So, let's try to understand this a bit_\n",
        " \n",
        "Say we have an image of digit 2.\n",
        "Each image can only be entirely one number on a scale of 0 to 9. \n",
        "\n",
        "#### Therefore our vector would look like this: \n",
        "\n",
        "> p<sub>1</sub> = [0, 0, 1, 0, 0, 0, 0, 0, 0, 0]\n",
        "\n",
        "There is 0 probability of being any other number but the one the image is supposed to be.\n",
        "\n",
        "### Now, let's say we have a machine learning model that classifies the image with probabilities of:\n",
        "\n",
        "> q<sub>1</sub> = [0.0, 0.0, 0.65, 0.15, 0.0, 0.0, 0.0, 0.20, 0.0, 0.0]\n",
        "\n",
        "Cross entropy can be calculated on this single image as:\n",
        "\n",
        "## -$\\sum_{i}^C$ p<sub>i</sub>(x) * LN q<sub>i</sub>(x)\n",
        "\n",
        "= - (0 * LN(0) + 0 * LN(0) + 1 * LN(0.65) + 0 * LN(0.15) + 0 * LN(0) + 0 * LN(0.20) + 0 * LN(0) + 0 * LN(0) + 0 * LN(0) + 0 * LN(0))\n",
        "\n",
        "= - (LN(0.65))\n",
        "\n",
        "= 0.43078\n"
      ]
    },
    {
      "cell_type": "code",
      "metadata": {
        "id": "KlkbkDO0LFyG",
        "colab_type": "code",
        "colab": {
          "base_uri": "https://localhost:8080/",
          "height": 54
        },
        "outputId": "d243d53a-55e2-46db-d3ba-1a5db0be13e0"
      },
      "source": [
        "def cross_entropy(x, y):\n",
        "    x = [element if element > 0 else 1 for element in x] # replace prediction probabilities of 0 to prevent LN(0), which is undefined.  Instead replace LN(1) = 0, which cancels out the term anyway\n",
        "    print(x)\n",
        "    pred = np.array(x)\n",
        "    targ = np.array(y)\n",
        "    \n",
        "    N = pred.shape[0] # A stack overflow divided by this number, which seems to conflict with my research (see above)\n",
        "    return -np.sum(targ*np.log(pred))\n",
        "\n",
        "predictions1 = [0.0, 0.0, 0.65, 0.15, 0.0, 0.20, 0.0, 0.0, 0.0, 0.0]\n",
        "targets1     = [0.0, 0.0, 1.0, 0.0, 0.0, 0.0, 0.0, 0.0, 0.0, 0.0]\n",
        "\n",
        "cross_entropy(predictions1, targets1)"
      ],
      "execution_count": 4,
      "outputs": [
        {
          "output_type": "stream",
          "text": [
            "[1, 1, 0.65, 0.15, 1, 0.2, 1, 1, 1, 1]\n"
          ],
          "name": "stdout"
        },
        {
          "output_type": "execute_result",
          "data": {
            "text/plain": [
              "0.4307829160924542"
            ]
          },
          "metadata": {
            "tags": []
          },
          "execution_count": 4
        }
      ]
    },
    {
      "cell_type": "markdown",
      "metadata": {
        "id": "PTlmSbDoJje9",
        "colab_type": "text"
      },
      "source": [
        "\n",
        "### Now, lets say the model was able to get better and classifies the probabilies of this image as:\n",
        "q<sub>1</sub> = [0.0, 0.0, 0.95, 0.05, 0.0, 0.0, 0.0, 0.0, 0.0, 0.0]\n",
        "\n",
        "So, \n",
        "\n",
        "## -$\\sum_{i}^C$ p<sub>i</sub>(x) * LN q<sub>i</sub>(x) \n",
        "\n",
        "= - (0 * LN(0) + 0 * LN(0) + 1 * LN(0.95) + 0 * LN(0.05) + 0 * LN(0) + 0 * LN(0.20) + 0 * LN(0) + 0 * LN(0) + 0 * LN(0) + 0 * LN(0))\n",
        "\n",
        "= - (LN(0.95))\n",
        "\n",
        "= 0.05129\n",
        "\n",
        "**This is much better!**"
      ]
    },
    {
      "cell_type": "code",
      "metadata": {
        "id": "7_3Bq_IzLWNl",
        "colab_type": "code",
        "colab": {
          "base_uri": "https://localhost:8080/",
          "height": 54
        },
        "outputId": "504eaf50-0c95-4396-b7c3-48996056d637"
      },
      "source": [
        "predictions2 =  [0.0, 0.0, 0.95, 0.05, 0.0, 0.0, 0.0, 0.0, 0.0, 0.0]\n",
        "targets2     =  [0.0, 0.0, 1.0, 0.0, 0.0, 0.0, 0.0, 0.0, 0.0, 0.0]\n",
        "\n",
        "cross_entropy(predictions2, targets2)"
      ],
      "execution_count": 5,
      "outputs": [
        {
          "output_type": "stream",
          "text": [
            "[1, 1, 0.95, 0.05, 1, 1, 1, 1, 1, 1]\n"
          ],
          "name": "stdout"
        },
        {
          "output_type": "execute_result",
          "data": {
            "text/plain": [
              "0.05129329438755058"
            ]
          },
          "metadata": {
            "tags": []
          },
          "execution_count": 5
        }
      ]
    },
    {
      "cell_type": "markdown",
      "metadata": {
        "id": "K2ohqsAILZSY",
        "colab_type": "text"
      },
      "source": [
        "## Now that we have learned a bit about the model, let's run it and see what happens!"
      ]
    },
    {
      "cell_type": "code",
      "metadata": {
        "id": "mvSsZ8sHJDs3",
        "colab_type": "code",
        "colab": {
          "base_uri": "https://localhost:8080/",
          "height": 54
        },
        "outputId": "49c143d8-10ac-49d7-aec8-e5a62b0562ac"
      },
      "source": [
        "mnist = tf.keras.datasets.mnist\n",
        "\n",
        "(x_train, y_train), (x_test, y_test) = mnist.load_data()\n",
        "x_train, x_test = x_train / 255.0, x_test / 255.0"
      ],
      "execution_count": 6,
      "outputs": [
        {
          "output_type": "stream",
          "text": [
            "Downloading data from https://storage.googleapis.com/tensorflow/tf-keras-datasets/mnist.npz\n",
            "11493376/11490434 [==============================] - 0s 0us/step\n"
          ],
          "name": "stdout"
        }
      ]
    },
    {
      "cell_type": "code",
      "metadata": {
        "id": "uyYQj6-TJD4j",
        "colab_type": "code",
        "colab": {}
      },
      "source": [
        "# Build the Sequential model\n",
        "\n",
        "model = tf.keras.models.Sequential([\n",
        "  tf.keras.layers.Flatten(input_shape=(28, 28)),\n",
        "  tf.keras.layers.Dense(256, activation='relu'),\n",
        "  tf.keras.layers.Dropout(0.2),\n",
        "  tf.keras.layers.Dense(10, activation='softmax')\n",
        "])\n",
        "\n",
        "model.compile(optimizer='adam', loss='sparse_categorical_crossentropy', metrics=['accuracy'])"
      ],
      "execution_count": 0,
      "outputs": []
    },
    {
      "cell_type": "markdown",
      "metadata": {
        "id": "1U4AUhT4NZBn",
        "colab_type": "text"
      },
      "source": [
        "## Creating First Model\n",
        "Dense layers are \"fully connected\" layers\n",
        "\n",
        "* \"The sequential model is a linear stack of layers\" (https://keras.io/getting-started/sequential-model-guide/)\n",
        "\n",
        "* The input layer requires the special input_shape parameter which should match the shape of our training data.\n",
        "* The image_size is a created by flattening an image to 28 X 28 or 28<sup>2</sup>  = 784\n",
        "* This model has a single hidden layer, that has 32 nodes, or 32 biases using the sigmoid activation function\n",
        "* And, since there are 784 square units, on 1 layer, that has 32 nodes, there are 784 x 1 x 32 = 25,088 weights, where weights represent the number of pixels\n",
        "* Therefore, there are 25,088 + 32 biases = 25,120 parameters\n",
        "* There are 32 x 10, or 320 weights from hidden layer to output layer.\n",
        "* Each of the 10 nodes adds a single bias >> 25,120 par + 320 weights + 10 nodes = 25,450 total parameters"
      ]
    },
    {
      "cell_type": "code",
      "metadata": {
        "id": "M0c2o3LGJD_W",
        "colab_type": "code",
        "colab": {
          "base_uri": "https://localhost:8080/",
          "height": 235
        },
        "outputId": "acb5daf0-3283-4584-f9d2-40c272be4e07"
      },
      "source": [
        "# Train and evaluate the model\n",
        "\n",
        "history = model.fit(x_train, y_train, epochs=5)\n",
        "loss, accuracy  = model.evaluate(x_test,  y_test, verbose=2)"
      ],
      "execution_count": 9,
      "outputs": [
        {
          "output_type": "stream",
          "text": [
            "Train on 60000 samples\n",
            "Epoch 1/5\n",
            "60000/60000 [==============================] - 6s 107us/sample - loss: 0.2524 - acc: 0.9259\n",
            "Epoch 2/5\n",
            "60000/60000 [==============================] - 6s 94us/sample - loss: 0.1147 - acc: 0.9654\n",
            "Epoch 3/5\n",
            "60000/60000 [==============================] - 6s 95us/sample - loss: 0.0816 - acc: 0.9750\n",
            "Epoch 4/5\n",
            "60000/60000 [==============================] - 6s 98us/sample - loss: 0.0655 - acc: 0.9788\n",
            "Epoch 5/5\n",
            "60000/60000 [==============================] - 6s 95us/sample - loss: 0.0517 - acc: 0.9837\n",
            "10000/10000 - 0s - loss: 0.0637 - acc: 0.9797\n"
          ],
          "name": "stdout"
        }
      ]
    },
    {
      "cell_type": "markdown",
      "metadata": {
        "id": "EXf9nbjSMbwy",
        "colab_type": "text"
      },
      "source": [
        "**Shape**\n",
        "\n",
        "From here, we can extrapolate that the training data set has 60,000 samples of images with the dimensions 28 X 28.  We also see that the test sample is composed of 10,000 samples of images of the same dimensions."
      ]
    },
    {
      "cell_type": "code",
      "metadata": {
        "id": "p0fHs2l6JEFA",
        "colab_type": "code",
        "colab": {
          "base_uri": "https://localhost:8080/",
          "height": 54
        },
        "outputId": "f5f577d2-cffc-415d-aad4-a2aa617ee4b7"
      },
      "source": [
        "print('Training data shape: ', x_train.shape)\n",
        "print('Test data shape: ', x_test.shape)"
      ],
      "execution_count": 10,
      "outputs": [
        {
          "output_type": "stream",
          "text": [
            "Training data shape:  (60000, 28, 28)\n",
            "Test data shape:  (10000, 28, 28)\n"
          ],
          "name": "stdout"
        }
      ]
    },
    {
      "cell_type": "markdown",
      "metadata": {
        "id": "G8WdGHuNMnNN",
        "colab_type": "text"
      },
      "source": [
        "**Flatten Images**\n",
        "\n",
        "The image vector size is the square units of each image.  In this case, 28 * 28, or 784.   \n",
        "As we saw above, x_train = [60000, 28, 28], so x_train[0] is equal to our sample size, or 60,000.    \n",
        "As the section says, we are trying to flatten this image.  Rather than being 3 dimensional 60k X 28 X 28,\n",
        "we are flattening the image population down to area.  So we will be down to (sample size, area) for each: training set and test set."
      ]
    },
    {
      "cell_type": "code",
      "metadata": {
        "id": "I-2yMmHxJD8L",
        "colab_type": "code",
        "colab": {}
      },
      "source": [
        "img_vector_size = 28**2\n",
        "x_train = x_train.reshape(x_train.shape[0], img_vector_size)\n",
        "x_test = x_test.reshape(x_test.shape[0], img_vector_size)"
      ],
      "execution_count": 0,
      "outputs": []
    },
    {
      "cell_type": "code",
      "metadata": {
        "id": "N5X-oWUbJRzL",
        "colab_type": "code",
        "colab": {
          "base_uri": "https://localhost:8080/",
          "height": 331
        },
        "outputId": "28757408-3629-42c7-bd32-e2d504504b03"
      },
      "source": [
        "# Graph the model accuracy\n",
        "\n",
        "import matplotlib.pyplot as plt\n",
        "\n",
        "plt.plot(history.history['acc'])\n",
        "plt.title('model accuracy')\n",
        "plt.ylabel('accuracy')\n",
        "plt.xlabel('epoch')\n",
        "plt.legend(['training', 'validation'], loc='best')\n",
        "plt.show()\n",
        "\n",
        "print(f'Test loss: {loss:.3}')\n",
        "print(f'Test accuracy: {accuracy:.3}')\n"
      ],
      "execution_count": 12,
      "outputs": [
        {
          "output_type": "display_data",
          "data": {
            "image/png": "[encoded data removed]",
            "text/plain": [
              "<Figure size 432x288 with 1 Axes>"
            ]
          },
          "metadata": {
            "tags": []
          }
        },
        {
          "output_type": "stream",
          "text": [
            "Test loss: 0.0637\n",
            "Test accuracy: 0.98\n"
          ],
          "name": "stdout"
        }
      ]
    },
    {
      "cell_type": "code",
      "metadata": {
        "id": "khqLYg8hJR8x",
        "colab_type": "code",
        "colab": {}
      },
      "source": [
        "from random import randint,sample\n",
        "\n",
        "def test_model(img):\n",
        "  plt.figure\n",
        "  plt.imshow(x_test[img].reshape(28,28),cmap='Greys')\n",
        "  pred = model.predict(x_test[img].reshape(1, 28, 28))\n",
        "  return pred.argmax()"
      ],
      "execution_count": 0,
      "outputs": []
    },
    {
      "cell_type": "code",
      "metadata": {
        "id": "hSms5seYJR6H",
        "colab_type": "code",
        "colab": {
          "base_uri": "https://localhost:8080/",
          "height": 287
        },
        "outputId": "c46caec2-c4e1-4f62-c1d2-313dfd68162f"
      },
      "source": [
        "img = randint(100,5000)\n",
        "plt.imshow(x_test[img].reshape(28,28),cmap='Greys')\n",
        "pred = model.predict(x_test[img].reshape(1, 28, 28))\n",
        "print(pred.argmax())"
      ],
      "execution_count": 22,
      "outputs": [
        {
          "output_type": "stream",
          "text": [
            "3\n"
          ],
          "name": "stdout"
        },
        {
          "output_type": "display_data",
          "data": {
            "image/png": "[encoded data removed]",
            "text/plain": [
              "<Figure size 432x288 with 1 Axes>"
            ]
          },
          "metadata": {
            "tags": []
          }
        }
      ]
    },
    {
      "cell_type": "code",
      "metadata": {
        "id": "foIuOcMsOfmQ",
        "colab_type": "code",
        "colab": {}
      },
      "source": [
        ""
      ],
      "execution_count": 0,
      "outputs": []
    }
  ]
}